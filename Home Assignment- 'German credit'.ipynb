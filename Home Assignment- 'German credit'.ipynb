{
 "cells": [
  {
   "cell_type": "code",
   "execution_count": 1,
   "id": "3aae17ed",
   "metadata": {},
   "outputs": [],
   "source": [
    "import pandas as pd \n",
    "import numpy as np \n",
    "import seaborn as sns \n",
    "import matplotlib.pyplot as plt \n",
    "import scipy.stats as stats\n",
    "import os\n",
    "\n",
    "import warnings\n",
    "warnings.filterwarnings(\"ignore\")\n"
   ]
  },
  {
   "cell_type": "code",
   "execution_count": 2,
   "id": "de196ff7",
   "metadata": {},
   "outputs": [
    {
     "data": {
      "text/plain": [
       "'C:\\\\Users\\\\Lenovo'"
      ]
     },
     "execution_count": 2,
     "metadata": {},
     "output_type": "execute_result"
    }
   ],
   "source": [
    "os.getcwd()"
   ]
  },
  {
   "cell_type": "code",
   "execution_count": 3,
   "id": "69ed8981",
   "metadata": {},
   "outputs": [],
   "source": [
    "os.chdir(\"C:/Users/Lenovo/Downloads/Module 6/Predictive Analytics\")"
   ]
  },
  {
   "cell_type": "code",
   "execution_count": 4,
   "id": "218d1df1",
   "metadata": {},
   "outputs": [],
   "source": [
    "df = pd.read_csv('germancredit.csv')"
   ]
  },
  {
   "cell_type": "code",
   "execution_count": 5,
   "id": "9d017458",
   "metadata": {},
   "outputs": [],
   "source": [
    "pd.set_option(\"display.max_rows\", 50)\n",
    "pd.set_option(\"display.max_columns\",25)"
   ]
  },
  {
   "cell_type": "code",
   "execution_count": 6,
   "id": "6c556aa4",
   "metadata": {
    "scrolled": true
   },
   "outputs": [
    {
     "data": {
      "text/html": [
       "<div>\n",
       "<style scoped>\n",
       "    .dataframe tbody tr th:only-of-type {\n",
       "        vertical-align: middle;\n",
       "    }\n",
       "\n",
       "    .dataframe tbody tr th {\n",
       "        vertical-align: top;\n",
       "    }\n",
       "\n",
       "    .dataframe thead th {\n",
       "        text-align: right;\n",
       "    }\n",
       "</style>\n",
       "<table border=\"1\" class=\"dataframe\">\n",
       "  <thead>\n",
       "    <tr style=\"text-align: right;\">\n",
       "      <th></th>\n",
       "      <th>Default</th>\n",
       "      <th>checkingstatus1</th>\n",
       "      <th>duration</th>\n",
       "      <th>history</th>\n",
       "      <th>purpose</th>\n",
       "      <th>amount</th>\n",
       "      <th>savings</th>\n",
       "      <th>employ</th>\n",
       "      <th>installment</th>\n",
       "      <th>status</th>\n",
       "      <th>others</th>\n",
       "      <th>residence</th>\n",
       "      <th>property</th>\n",
       "      <th>age</th>\n",
       "      <th>otherplans</th>\n",
       "      <th>housing</th>\n",
       "      <th>cards</th>\n",
       "      <th>job</th>\n",
       "      <th>liable</th>\n",
       "      <th>tele</th>\n",
       "      <th>foreign</th>\n",
       "    </tr>\n",
       "  </thead>\n",
       "  <tbody>\n",
       "    <tr>\n",
       "      <th>0</th>\n",
       "      <td>0</td>\n",
       "      <td>A11</td>\n",
       "      <td>6</td>\n",
       "      <td>A34</td>\n",
       "      <td>A43</td>\n",
       "      <td>1169</td>\n",
       "      <td>A65</td>\n",
       "      <td>A75</td>\n",
       "      <td>4</td>\n",
       "      <td>A93</td>\n",
       "      <td>A101</td>\n",
       "      <td>4</td>\n",
       "      <td>A121</td>\n",
       "      <td>67</td>\n",
       "      <td>A143</td>\n",
       "      <td>A152</td>\n",
       "      <td>2</td>\n",
       "      <td>A173</td>\n",
       "      <td>1</td>\n",
       "      <td>A192</td>\n",
       "      <td>A201</td>\n",
       "    </tr>\n",
       "    <tr>\n",
       "      <th>1</th>\n",
       "      <td>1</td>\n",
       "      <td>A12</td>\n",
       "      <td>48</td>\n",
       "      <td>A32</td>\n",
       "      <td>A43</td>\n",
       "      <td>5951</td>\n",
       "      <td>A61</td>\n",
       "      <td>A73</td>\n",
       "      <td>2</td>\n",
       "      <td>A92</td>\n",
       "      <td>A101</td>\n",
       "      <td>2</td>\n",
       "      <td>A121</td>\n",
       "      <td>22</td>\n",
       "      <td>A143</td>\n",
       "      <td>A152</td>\n",
       "      <td>1</td>\n",
       "      <td>A173</td>\n",
       "      <td>1</td>\n",
       "      <td>A191</td>\n",
       "      <td>A201</td>\n",
       "    </tr>\n",
       "    <tr>\n",
       "      <th>2</th>\n",
       "      <td>0</td>\n",
       "      <td>A14</td>\n",
       "      <td>12</td>\n",
       "      <td>A34</td>\n",
       "      <td>A46</td>\n",
       "      <td>2096</td>\n",
       "      <td>A61</td>\n",
       "      <td>A74</td>\n",
       "      <td>2</td>\n",
       "      <td>A93</td>\n",
       "      <td>A101</td>\n",
       "      <td>3</td>\n",
       "      <td>A121</td>\n",
       "      <td>49</td>\n",
       "      <td>A143</td>\n",
       "      <td>A152</td>\n",
       "      <td>1</td>\n",
       "      <td>A172</td>\n",
       "      <td>2</td>\n",
       "      <td>A191</td>\n",
       "      <td>A201</td>\n",
       "    </tr>\n",
       "    <tr>\n",
       "      <th>3</th>\n",
       "      <td>0</td>\n",
       "      <td>A11</td>\n",
       "      <td>42</td>\n",
       "      <td>A32</td>\n",
       "      <td>A42</td>\n",
       "      <td>7882</td>\n",
       "      <td>A61</td>\n",
       "      <td>A74</td>\n",
       "      <td>2</td>\n",
       "      <td>A93</td>\n",
       "      <td>A103</td>\n",
       "      <td>4</td>\n",
       "      <td>A122</td>\n",
       "      <td>45</td>\n",
       "      <td>A143</td>\n",
       "      <td>A153</td>\n",
       "      <td>1</td>\n",
       "      <td>A173</td>\n",
       "      <td>2</td>\n",
       "      <td>A191</td>\n",
       "      <td>A201</td>\n",
       "    </tr>\n",
       "    <tr>\n",
       "      <th>4</th>\n",
       "      <td>1</td>\n",
       "      <td>A11</td>\n",
       "      <td>24</td>\n",
       "      <td>A33</td>\n",
       "      <td>A40</td>\n",
       "      <td>4870</td>\n",
       "      <td>A61</td>\n",
       "      <td>A73</td>\n",
       "      <td>3</td>\n",
       "      <td>A93</td>\n",
       "      <td>A101</td>\n",
       "      <td>4</td>\n",
       "      <td>A124</td>\n",
       "      <td>53</td>\n",
       "      <td>A143</td>\n",
       "      <td>A153</td>\n",
       "      <td>2</td>\n",
       "      <td>A173</td>\n",
       "      <td>2</td>\n",
       "      <td>A191</td>\n",
       "      <td>A201</td>\n",
       "    </tr>\n",
       "    <tr>\n",
       "      <th>5</th>\n",
       "      <td>0</td>\n",
       "      <td>A14</td>\n",
       "      <td>36</td>\n",
       "      <td>A32</td>\n",
       "      <td>A46</td>\n",
       "      <td>9055</td>\n",
       "      <td>A65</td>\n",
       "      <td>A73</td>\n",
       "      <td>2</td>\n",
       "      <td>A93</td>\n",
       "      <td>A101</td>\n",
       "      <td>4</td>\n",
       "      <td>A124</td>\n",
       "      <td>35</td>\n",
       "      <td>A143</td>\n",
       "      <td>A153</td>\n",
       "      <td>1</td>\n",
       "      <td>A172</td>\n",
       "      <td>2</td>\n",
       "      <td>A192</td>\n",
       "      <td>A201</td>\n",
       "    </tr>\n",
       "    <tr>\n",
       "      <th>6</th>\n",
       "      <td>0</td>\n",
       "      <td>A14</td>\n",
       "      <td>24</td>\n",
       "      <td>A32</td>\n",
       "      <td>A42</td>\n",
       "      <td>2835</td>\n",
       "      <td>A63</td>\n",
       "      <td>A75</td>\n",
       "      <td>3</td>\n",
       "      <td>A93</td>\n",
       "      <td>A101</td>\n",
       "      <td>4</td>\n",
       "      <td>A122</td>\n",
       "      <td>53</td>\n",
       "      <td>A143</td>\n",
       "      <td>A152</td>\n",
       "      <td>1</td>\n",
       "      <td>A173</td>\n",
       "      <td>1</td>\n",
       "      <td>A191</td>\n",
       "      <td>A201</td>\n",
       "    </tr>\n",
       "    <tr>\n",
       "      <th>7</th>\n",
       "      <td>0</td>\n",
       "      <td>A12</td>\n",
       "      <td>36</td>\n",
       "      <td>A32</td>\n",
       "      <td>A41</td>\n",
       "      <td>6948</td>\n",
       "      <td>A61</td>\n",
       "      <td>A73</td>\n",
       "      <td>2</td>\n",
       "      <td>A93</td>\n",
       "      <td>A101</td>\n",
       "      <td>2</td>\n",
       "      <td>A123</td>\n",
       "      <td>35</td>\n",
       "      <td>A143</td>\n",
       "      <td>A151</td>\n",
       "      <td>1</td>\n",
       "      <td>A174</td>\n",
       "      <td>1</td>\n",
       "      <td>A192</td>\n",
       "      <td>A201</td>\n",
       "    </tr>\n",
       "    <tr>\n",
       "      <th>8</th>\n",
       "      <td>0</td>\n",
       "      <td>A14</td>\n",
       "      <td>12</td>\n",
       "      <td>A32</td>\n",
       "      <td>A43</td>\n",
       "      <td>3059</td>\n",
       "      <td>A64</td>\n",
       "      <td>A74</td>\n",
       "      <td>2</td>\n",
       "      <td>A91</td>\n",
       "      <td>A101</td>\n",
       "      <td>4</td>\n",
       "      <td>A121</td>\n",
       "      <td>61</td>\n",
       "      <td>A143</td>\n",
       "      <td>A152</td>\n",
       "      <td>1</td>\n",
       "      <td>A172</td>\n",
       "      <td>1</td>\n",
       "      <td>A191</td>\n",
       "      <td>A201</td>\n",
       "    </tr>\n",
       "    <tr>\n",
       "      <th>9</th>\n",
       "      <td>1</td>\n",
       "      <td>A12</td>\n",
       "      <td>30</td>\n",
       "      <td>A34</td>\n",
       "      <td>A40</td>\n",
       "      <td>5234</td>\n",
       "      <td>A61</td>\n",
       "      <td>A71</td>\n",
       "      <td>4</td>\n",
       "      <td>A94</td>\n",
       "      <td>A101</td>\n",
       "      <td>2</td>\n",
       "      <td>A123</td>\n",
       "      <td>28</td>\n",
       "      <td>A143</td>\n",
       "      <td>A152</td>\n",
       "      <td>2</td>\n",
       "      <td>A174</td>\n",
       "      <td>1</td>\n",
       "      <td>A191</td>\n",
       "      <td>A201</td>\n",
       "    </tr>\n",
       "  </tbody>\n",
       "</table>\n",
       "</div>"
      ],
      "text/plain": [
       "   Default checkingstatus1  duration history purpose  amount savings employ  \\\n",
       "0        0             A11         6     A34     A43    1169     A65    A75   \n",
       "1        1             A12        48     A32     A43    5951     A61    A73   \n",
       "2        0             A14        12     A34     A46    2096     A61    A74   \n",
       "3        0             A11        42     A32     A42    7882     A61    A74   \n",
       "4        1             A11        24     A33     A40    4870     A61    A73   \n",
       "5        0             A14        36     A32     A46    9055     A65    A73   \n",
       "6        0             A14        24     A32     A42    2835     A63    A75   \n",
       "7        0             A12        36     A32     A41    6948     A61    A73   \n",
       "8        0             A14        12     A32     A43    3059     A64    A74   \n",
       "9        1             A12        30     A34     A40    5234     A61    A71   \n",
       "\n",
       "   installment status others  residence property  age otherplans housing  \\\n",
       "0            4    A93   A101          4     A121   67       A143    A152   \n",
       "1            2    A92   A101          2     A121   22       A143    A152   \n",
       "2            2    A93   A101          3     A121   49       A143    A152   \n",
       "3            2    A93   A103          4     A122   45       A143    A153   \n",
       "4            3    A93   A101          4     A124   53       A143    A153   \n",
       "5            2    A93   A101          4     A124   35       A143    A153   \n",
       "6            3    A93   A101          4     A122   53       A143    A152   \n",
       "7            2    A93   A101          2     A123   35       A143    A151   \n",
       "8            2    A91   A101          4     A121   61       A143    A152   \n",
       "9            4    A94   A101          2     A123   28       A143    A152   \n",
       "\n",
       "   cards   job  liable  tele foreign  \n",
       "0      2  A173       1  A192    A201  \n",
       "1      1  A173       1  A191    A201  \n",
       "2      1  A172       2  A191    A201  \n",
       "3      1  A173       2  A191    A201  \n",
       "4      2  A173       2  A191    A201  \n",
       "5      1  A172       2  A192    A201  \n",
       "6      1  A173       1  A191    A201  \n",
       "7      1  A174       1  A192    A201  \n",
       "8      1  A172       1  A191    A201  \n",
       "9      2  A174       1  A191    A201  "
      ]
     },
     "execution_count": 6,
     "metadata": {},
     "output_type": "execute_result"
    }
   ],
   "source": [
    "df.head(10)"
   ]
  },
  {
   "cell_type": "code",
   "execution_count": 7,
   "id": "6e1c5ca9",
   "metadata": {
    "scrolled": true
   },
   "outputs": [
    {
     "data": {
      "text/plain": [
       "(1000, 21)"
      ]
     },
     "execution_count": 7,
     "metadata": {},
     "output_type": "execute_result"
    }
   ],
   "source": [
    "df.shape"
   ]
  },
  {
   "cell_type": "code",
   "execution_count": 8,
   "id": "152ba9e0",
   "metadata": {},
   "outputs": [
    {
     "data": {
      "text/plain": [
       "Default             int64\n",
       "checkingstatus1    object\n",
       "duration            int64\n",
       "history            object\n",
       "purpose            object\n",
       "amount              int64\n",
       "savings            object\n",
       "employ             object\n",
       "installment         int64\n",
       "status             object\n",
       "others             object\n",
       "residence           int64\n",
       "property           object\n",
       "age                 int64\n",
       "otherplans         object\n",
       "housing            object\n",
       "cards               int64\n",
       "job                object\n",
       "liable              int64\n",
       "tele               object\n",
       "foreign            object\n",
       "dtype: object"
      ]
     },
     "execution_count": 8,
     "metadata": {},
     "output_type": "execute_result"
    }
   ],
   "source": [
    "df.dtypes"
   ]
  },
  {
   "cell_type": "code",
   "execution_count": 9,
   "id": "0019773d",
   "metadata": {},
   "outputs": [],
   "source": [
    "#df['Default'] = pd.Categorical(df.Default)\n"
   ]
  },
  {
   "cell_type": "code",
   "execution_count": 10,
   "id": "3c6a6487",
   "metadata": {},
   "outputs": [],
   "source": [
    "## We will keep an untouched copy of our dataset in case we need it ahead.\n",
    "\n",
    "dt = df.copy()"
   ]
  },
  {
   "cell_type": "code",
   "execution_count": 11,
   "id": "2d0aa67c",
   "metadata": {},
   "outputs": [
    {
     "data": {
      "text/html": [
       "<div>\n",
       "<style scoped>\n",
       "    .dataframe tbody tr th:only-of-type {\n",
       "        vertical-align: middle;\n",
       "    }\n",
       "\n",
       "    .dataframe tbody tr th {\n",
       "        vertical-align: top;\n",
       "    }\n",
       "\n",
       "    .dataframe thead th {\n",
       "        text-align: right;\n",
       "    }\n",
       "</style>\n",
       "<table border=\"1\" class=\"dataframe\">\n",
       "  <thead>\n",
       "    <tr style=\"text-align: right;\">\n",
       "      <th></th>\n",
       "      <th>Default</th>\n",
       "      <th>duration</th>\n",
       "      <th>amount</th>\n",
       "      <th>installment</th>\n",
       "      <th>residence</th>\n",
       "      <th>age</th>\n",
       "      <th>cards</th>\n",
       "      <th>liable</th>\n",
       "    </tr>\n",
       "  </thead>\n",
       "  <tbody>\n",
       "    <tr>\n",
       "      <th>count</th>\n",
       "      <td>1000.00000</td>\n",
       "      <td>1000.00000</td>\n",
       "      <td>1000.00000</td>\n",
       "      <td>1000.00000</td>\n",
       "      <td>1000.00000</td>\n",
       "      <td>1000.00000</td>\n",
       "      <td>1000.00000</td>\n",
       "      <td>1000.00000</td>\n",
       "    </tr>\n",
       "    <tr>\n",
       "      <th>mean</th>\n",
       "      <td>0.30000</td>\n",
       "      <td>20.90300</td>\n",
       "      <td>3271.25800</td>\n",
       "      <td>2.97300</td>\n",
       "      <td>2.84500</td>\n",
       "      <td>35.54600</td>\n",
       "      <td>1.40700</td>\n",
       "      <td>1.15500</td>\n",
       "    </tr>\n",
       "    <tr>\n",
       "      <th>std</th>\n",
       "      <td>0.45849</td>\n",
       "      <td>12.05881</td>\n",
       "      <td>2822.73688</td>\n",
       "      <td>1.11871</td>\n",
       "      <td>1.10372</td>\n",
       "      <td>11.37547</td>\n",
       "      <td>0.57765</td>\n",
       "      <td>0.36209</td>\n",
       "    </tr>\n",
       "    <tr>\n",
       "      <th>min</th>\n",
       "      <td>0.00000</td>\n",
       "      <td>4.00000</td>\n",
       "      <td>250.00000</td>\n",
       "      <td>1.00000</td>\n",
       "      <td>1.00000</td>\n",
       "      <td>19.00000</td>\n",
       "      <td>1.00000</td>\n",
       "      <td>1.00000</td>\n",
       "    </tr>\n",
       "    <tr>\n",
       "      <th>25%</th>\n",
       "      <td>0.00000</td>\n",
       "      <td>12.00000</td>\n",
       "      <td>1365.50000</td>\n",
       "      <td>2.00000</td>\n",
       "      <td>2.00000</td>\n",
       "      <td>27.00000</td>\n",
       "      <td>1.00000</td>\n",
       "      <td>1.00000</td>\n",
       "    </tr>\n",
       "    <tr>\n",
       "      <th>50%</th>\n",
       "      <td>0.00000</td>\n",
       "      <td>18.00000</td>\n",
       "      <td>2319.50000</td>\n",
       "      <td>3.00000</td>\n",
       "      <td>3.00000</td>\n",
       "      <td>33.00000</td>\n",
       "      <td>1.00000</td>\n",
       "      <td>1.00000</td>\n",
       "    </tr>\n",
       "    <tr>\n",
       "      <th>75%</th>\n",
       "      <td>1.00000</td>\n",
       "      <td>24.00000</td>\n",
       "      <td>3972.25000</td>\n",
       "      <td>4.00000</td>\n",
       "      <td>4.00000</td>\n",
       "      <td>42.00000</td>\n",
       "      <td>2.00000</td>\n",
       "      <td>1.00000</td>\n",
       "    </tr>\n",
       "    <tr>\n",
       "      <th>max</th>\n",
       "      <td>1.00000</td>\n",
       "      <td>72.00000</td>\n",
       "      <td>18424.00000</td>\n",
       "      <td>4.00000</td>\n",
       "      <td>4.00000</td>\n",
       "      <td>75.00000</td>\n",
       "      <td>4.00000</td>\n",
       "      <td>2.00000</td>\n",
       "    </tr>\n",
       "  </tbody>\n",
       "</table>\n",
       "</div>"
      ],
      "text/plain": [
       "         Default   duration      amount  installment  residence        age  \\\n",
       "count 1000.00000 1000.00000  1000.00000   1000.00000 1000.00000 1000.00000   \n",
       "mean     0.30000   20.90300  3271.25800      2.97300    2.84500   35.54600   \n",
       "std      0.45849   12.05881  2822.73688      1.11871    1.10372   11.37547   \n",
       "min      0.00000    4.00000   250.00000      1.00000    1.00000   19.00000   \n",
       "25%      0.00000   12.00000  1365.50000      2.00000    2.00000   27.00000   \n",
       "50%      0.00000   18.00000  2319.50000      3.00000    3.00000   33.00000   \n",
       "75%      1.00000   24.00000  3972.25000      4.00000    4.00000   42.00000   \n",
       "max      1.00000   72.00000 18424.00000      4.00000    4.00000   75.00000   \n",
       "\n",
       "           cards     liable  \n",
       "count 1000.00000 1000.00000  \n",
       "mean     1.40700    1.15500  \n",
       "std      0.57765    0.36209  \n",
       "min      1.00000    1.00000  \n",
       "25%      1.00000    1.00000  \n",
       "50%      1.00000    1.00000  \n",
       "75%      2.00000    1.00000  \n",
       "max      4.00000    2.00000  "
      ]
     },
     "execution_count": 11,
     "metadata": {},
     "output_type": "execute_result"
    }
   ],
   "source": [
    "#To turn on scientific notions \n",
    "pd.options.display.float_format = '{:.5f}'.format\n",
    "df.describe()"
   ]
  },
  {
   "cell_type": "code",
   "execution_count": 12,
   "id": "c1e6db5e",
   "metadata": {},
   "outputs": [],
   "source": [
    "#To turn off scientific notions \n",
    "pd.options.display.float_format = '{:.2f}'.format"
   ]
  },
  {
   "cell_type": "code",
   "execution_count": 13,
   "id": "c893ac29",
   "metadata": {},
   "outputs": [],
   "source": [
    "#df.describe(include = 'category')"
   ]
  },
  {
   "cell_type": "markdown",
   "id": "f6d5273d",
   "metadata": {},
   "source": [
    "## Check Duplicate Rows"
   ]
  },
  {
   "cell_type": "code",
   "execution_count": 14,
   "id": "6f1e335a",
   "metadata": {},
   "outputs": [
    {
     "data": {
      "text/html": [
       "<div>\n",
       "<style scoped>\n",
       "    .dataframe tbody tr th:only-of-type {\n",
       "        vertical-align: middle;\n",
       "    }\n",
       "\n",
       "    .dataframe tbody tr th {\n",
       "        vertical-align: top;\n",
       "    }\n",
       "\n",
       "    .dataframe thead th {\n",
       "        text-align: right;\n",
       "    }\n",
       "</style>\n",
       "<table border=\"1\" class=\"dataframe\">\n",
       "  <thead>\n",
       "    <tr style=\"text-align: right;\">\n",
       "      <th></th>\n",
       "      <th>Default</th>\n",
       "      <th>checkingstatus1</th>\n",
       "      <th>duration</th>\n",
       "      <th>history</th>\n",
       "      <th>purpose</th>\n",
       "      <th>amount</th>\n",
       "      <th>savings</th>\n",
       "      <th>employ</th>\n",
       "      <th>installment</th>\n",
       "      <th>status</th>\n",
       "      <th>others</th>\n",
       "      <th>residence</th>\n",
       "      <th>property</th>\n",
       "      <th>age</th>\n",
       "      <th>otherplans</th>\n",
       "      <th>housing</th>\n",
       "      <th>cards</th>\n",
       "      <th>job</th>\n",
       "      <th>liable</th>\n",
       "      <th>tele</th>\n",
       "      <th>foreign</th>\n",
       "    </tr>\n",
       "  </thead>\n",
       "  <tbody>\n",
       "  </tbody>\n",
       "</table>\n",
       "</div>"
      ],
      "text/plain": [
       "Empty DataFrame\n",
       "Columns: [Default, checkingstatus1, duration, history, purpose, amount, savings, employ, installment, status, others, residence, property, age, otherplans, housing, cards, job, liable, tele, foreign]\n",
       "Index: []"
      ]
     },
     "execution_count": 14,
     "metadata": {},
     "output_type": "execute_result"
    }
   ],
   "source": [
    "duplicate = df[df.duplicated()]\n",
    "duplicate\n",
    "\n",
    "## No duplicate rows"
   ]
  },
  {
   "cell_type": "code",
   "execution_count": 15,
   "id": "11ef8fcd",
   "metadata": {},
   "outputs": [
    {
     "data": {
      "text/plain": [
       "<AxesSubplot:xlabel='Default'>"
      ]
     },
     "execution_count": 15,
     "metadata": {},
     "output_type": "execute_result"
    },
    {
     "data": {
      "image/png": "[encoded data removed]",
      "text/plain": [
       "<Figure size 432x288 with 1 Axes>"
      ]
     },
     "metadata": {
      "needs_background": "light"
     },
     "output_type": "display_data"
    }
   ],
   "source": [
    "GroupedData=df.groupby('Default').size()\n",
    "GroupedData.plot(kind='bar', figsize=(6,4))\n"
   ]
  },
  {
   "cell_type": "markdown",
   "id": "b00ac516",
   "metadata": {},
   "source": [
    "# Correct DataTypes\n",
    "\n",
    "## Change Default, Liable, Cards, Residance, Installment from Numeric to Object Type"
   ]
  },
  {
   "cell_type": "code",
   "execution_count": 16,
   "id": "25f2c382",
   "metadata": {},
   "outputs": [],
   "source": [
    "df['Default'] = df['Default'].astype('object')\n",
    "df['liable'] = df['liable'].astype('object')\n",
    "df['cards'] = df['cards'].astype('object')\n",
    "df['residence'] = df['residence'].astype('object')\n",
    "df['installment'] = df['installment'].astype('object')\n"
   ]
  },
  {
   "cell_type": "code",
   "execution_count": null,
   "id": "7e149691",
   "metadata": {},
   "outputs": [],
   "source": []
  },
  {
   "cell_type": "markdown",
   "id": "3f9c43e0",
   "metadata": {},
   "source": [
    "# Value Counts\n",
    "\n",
    "## Checking value counts for each categorical variable"
   ]
  },
  {
   "cell_type": "code",
   "execution_count": 17,
   "id": "a9a68251",
   "metadata": {},
   "outputs": [
    {
     "data": {
      "text/plain": [
       "0   70.00\n",
       "1   30.00\n",
       "Name: Default, dtype: float64"
      ]
     },
     "execution_count": 17,
     "metadata": {},
     "output_type": "execute_result"
    }
   ],
   "source": [
    "df['Default'].value_counts()/len(df['Default'])*100"
   ]
  },
  {
   "cell_type": "code",
   "execution_count": 18,
   "id": "68725d55",
   "metadata": {},
   "outputs": [
    {
     "data": {
      "text/plain": [
       "A14   39.40\n",
       "A11   27.40\n",
       "A12   26.90\n",
       "A13    6.30\n",
       "Name: checkingstatus1, dtype: float64"
      ]
     },
     "execution_count": 18,
     "metadata": {},
     "output_type": "execute_result"
    }
   ],
   "source": [
    "df['checkingstatus1'].value_counts()/len(df['checkingstatus1'])*100\n",
    "\n",
    "# Status of existing checking account\n",
    "# A11 : ... < 0 DM\n",
    "# A12 : 0 <= ... < 200 DM\n",
    "# A13 : ... >= 200 DM / salary assignments for at least 1 year\n",
    "# A14 : no checking account"
   ]
  },
  {
   "cell_type": "code",
   "execution_count": 19,
   "id": "097c5837",
   "metadata": {},
   "outputs": [
    {
     "data": {
      "text/plain": [
       "A32   53.00\n",
       "A34   29.30\n",
       "A33    8.80\n",
       "A31    4.90\n",
       "A30    4.00\n",
       "Name: history, dtype: float64"
      ]
     },
     "execution_count": 19,
     "metadata": {},
     "output_type": "execute_result"
    }
   ],
   "source": [
    "df['history'].value_counts()/len(df['history'])*100\n",
    "\n",
    "# Credit history\n",
    "# A30 : no credits taken/ all credits paid back duly\n",
    "# A31 : all credits at this bank paid back duly\n",
    "# A32 : existing credits paid back duly till now\n",
    "# A33 : delay in paying off in the past\n",
    "# A34 : critical account/ other credits existing (not at this bank)"
   ]
  },
  {
   "cell_type": "code",
   "execution_count": 20,
   "id": "fd8a4877",
   "metadata": {},
   "outputs": [
    {
     "data": {
      "text/plain": [
       "A43    28.00\n",
       "A40    23.40\n",
       "A42    18.10\n",
       "A41    10.30\n",
       "A49     9.70\n",
       "A46     5.00\n",
       "A45     2.20\n",
       "A44     1.20\n",
       "A410    1.20\n",
       "A48     0.90\n",
       "Name: purpose, dtype: float64"
      ]
     },
     "execution_count": 20,
     "metadata": {},
     "output_type": "execute_result"
    }
   ],
   "source": [
    "df['purpose'].value_counts()/len(df['purpose'])*100\n",
    "\n",
    "# Purpose\n",
    "# A40 : car (new)\n",
    "# A41 : car (used)\n",
    "# A42 : furniture/equipment\n",
    "# A43 : radio/television\n",
    "# A44 : domestic appliances\n",
    "# A45 : repairs\n",
    "# A46 : education\n",
    "# A47 : (vacation - does not exist?)\n",
    "# A48 : retraining\n",
    "# A49 : business\n",
    "# A410 : others"
   ]
  },
  {
   "cell_type": "code",
   "execution_count": 21,
   "id": "dd561557",
   "metadata": {},
   "outputs": [
    {
     "data": {
      "text/plain": [
       "A61   60.30\n",
       "A65   18.30\n",
       "A62   10.30\n",
       "A63    6.30\n",
       "A64    4.80\n",
       "Name: savings, dtype: float64"
      ]
     },
     "execution_count": 21,
     "metadata": {},
     "output_type": "execute_result"
    }
   ],
   "source": [
    "df['savings'].value_counts()/len(df['savings'])*100\n",
    "\n",
    "# Savings account/bonds\n",
    "# A61 : ... < 100 DM\n",
    "# A62 : 100 <= ... < 500 DM\n",
    "# A63 : 500 <= ... < 1000 DM\n",
    "# A64 : .. >= 1000 DM\n",
    "# A65 : unknown/ no savings account"
   ]
  },
  {
   "cell_type": "code",
   "execution_count": 22,
   "id": "cca98cf4",
   "metadata": {},
   "outputs": [
    {
     "data": {
      "text/plain": [
       "A73   33.90\n",
       "A75   25.30\n",
       "A74   17.40\n",
       "A72   17.20\n",
       "A71    6.20\n",
       "Name: employ, dtype: float64"
      ]
     },
     "execution_count": 22,
     "metadata": {},
     "output_type": "execute_result"
    }
   ],
   "source": [
    "df['employ'].value_counts()/len(df['employ'])*100\n",
    "\n",
    "# Present employment since\n",
    "# A71 : unemployed\n",
    "# A72 : ... < 1 year\n",
    "# A73 : 1 <= ... < 4 years\n",
    "# A74 : 4 <= ... < 7 years\n",
    "# A75 : .. >= 7 years"
   ]
  },
  {
   "cell_type": "code",
   "execution_count": 23,
   "id": "8ded5b40",
   "metadata": {},
   "outputs": [
    {
     "data": {
      "text/plain": [
       "A93   54.80\n",
       "A92   31.00\n",
       "A94    9.20\n",
       "A91    5.00\n",
       "Name: status, dtype: float64"
      ]
     },
     "execution_count": 23,
     "metadata": {},
     "output_type": "execute_result"
    }
   ],
   "source": [
    "df['status'].value_counts()/len(df['status'])*100\n",
    "\n",
    "# A91 : male : divorced/separated\n",
    "# A92 : female : divorced/separated/married\n",
    "# A93 : male : single\n",
    "# A94 : male : married/widowed\n",
    "# A95 : female : single"
   ]
  },
  {
   "cell_type": "code",
   "execution_count": 24,
   "id": "b29050af",
   "metadata": {},
   "outputs": [
    {
     "data": {
      "text/plain": [
       "A101   90.70\n",
       "A103    5.20\n",
       "A102    4.10\n",
       "Name: others, dtype: float64"
      ]
     },
     "execution_count": 24,
     "metadata": {},
     "output_type": "execute_result"
    }
   ],
   "source": [
    "df['others'].value_counts()/len(df['others'])*100\n",
    "\n",
    "# Other debtors / guarantors\n",
    "# A101 : none\n",
    "# A102 : co-applicant\n",
    "# A103 : guarantor"
   ]
  },
  {
   "cell_type": "code",
   "execution_count": 25,
   "id": "7962d3db",
   "metadata": {},
   "outputs": [
    {
     "data": {
      "text/plain": [
       "A123   33.20\n",
       "A121   28.20\n",
       "A122   23.20\n",
       "A124   15.40\n",
       "Name: property, dtype: float64"
      ]
     },
     "execution_count": 25,
     "metadata": {},
     "output_type": "execute_result"
    }
   ],
   "source": [
    "df['property'].value_counts()/len(df['property'])*100\n",
    "\n",
    "# A121 : real estate\n",
    "# A122 : if not A121 : building society savings agreement/ life insurance\n",
    "# A123 : if not A121/A122 : car or other, not in attribute 6\n",
    "# A124 : unknown / no property"
   ]
  },
  {
   "cell_type": "code",
   "execution_count": 26,
   "id": "ff3a34c1",
   "metadata": {},
   "outputs": [
    {
     "data": {
      "text/plain": [
       "A143   81.40\n",
       "A141   13.90\n",
       "A142    4.70\n",
       "Name: otherplans, dtype: float64"
      ]
     },
     "execution_count": 26,
     "metadata": {},
     "output_type": "execute_result"
    }
   ],
   "source": [
    "df['otherplans'].value_counts()/len(df['otherplans'])*100\n",
    "\n",
    "# Other installment plans\n",
    "# A141 : bank\n",
    "# A142 : stores\n",
    "# A143 : none"
   ]
  },
  {
   "cell_type": "code",
   "execution_count": 27,
   "id": "58584eda",
   "metadata": {},
   "outputs": [
    {
     "data": {
      "text/plain": [
       "A152   71.30\n",
       "A151   17.90\n",
       "A153   10.80\n",
       "Name: housing, dtype: float64"
      ]
     },
     "execution_count": 27,
     "metadata": {},
     "output_type": "execute_result"
    }
   ],
   "source": [
    "df['housing'].value_counts()/len(df['housing'])*100\n",
    "\n",
    "# A151 : rent\n",
    "# A152 : own\n",
    "# A153 : for free"
   ]
  },
  {
   "cell_type": "code",
   "execution_count": 28,
   "id": "77c808a0",
   "metadata": {},
   "outputs": [
    {
     "data": {
      "text/plain": [
       "A173   63.00\n",
       "A172   20.00\n",
       "A174   14.80\n",
       "A171    2.20\n",
       "Name: job, dtype: float64"
      ]
     },
     "execution_count": 28,
     "metadata": {},
     "output_type": "execute_result"
    }
   ],
   "source": [
    "df['job'].value_counts()/len(df['job'])*100\n",
    "\n",
    "# A171 : unemployed/ unskilled - non-resident\n",
    "# A172 : unskilled - resident\n",
    "# A173 : skilled employee / official\n",
    "# A174 : management/ self-employed/highly qualified employee/ officer"
   ]
  },
  {
   "cell_type": "code",
   "execution_count": 29,
   "id": "b01a6f4e",
   "metadata": {},
   "outputs": [
    {
     "data": {
      "text/plain": [
       "A191   59.60\n",
       "A192   40.40\n",
       "Name: tele, dtype: float64"
      ]
     },
     "execution_count": 29,
     "metadata": {},
     "output_type": "execute_result"
    }
   ],
   "source": [
    "df['tele'].value_counts()/len(df['tele'])*100\n",
    "# Telephone\n",
    "# A191 : none\n",
    "# A192 : yes, registered under the customers name"
   ]
  },
  {
   "cell_type": "code",
   "execution_count": 30,
   "id": "bc4d5b5b",
   "metadata": {},
   "outputs": [
    {
     "data": {
      "text/plain": [
       "A201   96.30\n",
       "A202    3.70\n",
       "Name: foreign, dtype: float64"
      ]
     },
     "execution_count": 30,
     "metadata": {},
     "output_type": "execute_result"
    }
   ],
   "source": [
    "df['foreign'].value_counts()/len(df['foreign'])*100\n",
    "# foreign worker\n",
    "# A201 : yes\n",
    "# A202 : no"
   ]
  },
  {
   "cell_type": "code",
   "execution_count": 31,
   "id": "02a2a042",
   "metadata": {},
   "outputs": [
    {
     "data": {
      "text/plain": [
       "1   84.50\n",
       "2   15.50\n",
       "Name: liable, dtype: float64"
      ]
     },
     "execution_count": 31,
     "metadata": {},
     "output_type": "execute_result"
    }
   ],
   "source": [
    "df['liable'].value_counts()/len(df['liable'])*100\n",
    "\n",
    "#Number of people being liable to provide maintenance for"
   ]
  },
  {
   "cell_type": "markdown",
   "id": "73e25fb1",
   "metadata": {},
   "source": [
    "## Handiling Outleiers"
   ]
  },
  {
   "cell_type": "code",
   "execution_count": 32,
   "id": "334e5dc8",
   "metadata": {},
   "outputs": [
    {
     "data": {
      "text/plain": [
       "Default             0\n",
       "age                23\n",
       "amount             72\n",
       "cards               0\n",
       "checkingstatus1     0\n",
       "duration           70\n",
       "employ              0\n",
       "foreign             0\n",
       "history             0\n",
       "housing             0\n",
       "installment         0\n",
       "job                 0\n",
       "liable              0\n",
       "otherplans          0\n",
       "others              0\n",
       "property            0\n",
       "purpose             0\n",
       "residence           0\n",
       "savings             0\n",
       "status              0\n",
       "tele                0\n",
       "dtype: int64"
      ]
     },
     "execution_count": 32,
     "metadata": {},
     "output_type": "execute_result"
    }
   ],
   "source": [
    "## Count number of outliers\n",
    "\n",
    "Q1 = df.quantile(0.25)\n",
    "Q3 = df.quantile(0.75)\n",
    "IQR = Q3 - Q1\n",
    "((df < (Q1 - 1.5 * IQR)) | (df > (Q3 + 1.5 * IQR))).sum()"
   ]
  },
  {
   "cell_type": "markdown",
   "id": "5fbca2ad",
   "metadata": {},
   "source": [
    "### liable is not outliers "
   ]
  },
  {
   "cell_type": "code",
   "execution_count": 33,
   "id": "b57c2f5b",
   "metadata": {},
   "outputs": [
    {
     "data": {
      "text/plain": [
       "<AxesSubplot:>"
      ]
     },
     "execution_count": 33,
     "metadata": {},
     "output_type": "execute_result"
    },
    {
     "data": {
      "image/png": "[encoded data removed]",
      "text/plain": [
       "<Figure size 1440x216 with 1 Axes>"
      ]
     },
     "metadata": {
      "needs_background": "light"
     },
     "output_type": "display_data"
    }
   ],
   "source": [
    "import matplotlib.pyplot as plt \n",
    "plt.rcParams['figure.figsize']=(20,3)\n",
    "sns.boxplot(data=df['age'], orient=\"h\")\n",
    "\n",
    "#23 outliers very small number ignore it"
   ]
  },
  {
   "cell_type": "markdown",
   "id": "c7b8a58d",
   "metadata": {},
   "source": [
    "### Amount"
   ]
  },
  {
   "cell_type": "code",
   "execution_count": 34,
   "id": "c74e2682",
   "metadata": {},
   "outputs": [
    {
     "data": {
      "text/plain": [
       "<AxesSubplot:>"
      ]
     },
     "execution_count": 34,
     "metadata": {},
     "output_type": "execute_result"
    },
    {
     "data": {
      "image/png": "[encoded data removed]",
      "text/plain": [
       "<Figure size 1440x216 with 1 Axes>"
      ]
     },
     "metadata": {
      "needs_background": "light"
     },
     "output_type": "display_data"
    }
   ],
   "source": [
    "import matplotlib.pyplot as plt \n",
    "plt.rcParams['figure.figsize']=(20,3)\n",
    "sns.boxplot(data=df[\"amount\"], orient=\"h\")\n",
    "\n",
    "## 72\n",
    "## Check profile of these outliers for amount"
   ]
  },
  {
   "cell_type": "code",
   "execution_count": 35,
   "id": "8ff877a2",
   "metadata": {},
   "outputs": [
    {
     "data": {
      "text/plain": [
       "(72, 21)"
      ]
     },
     "execution_count": 35,
     "metadata": {},
     "output_type": "execute_result"
    }
   ],
   "source": [
    "## Seperating Outliers ids for Amount in seperate dataframe.\n",
    "\n",
    "Q1 = df['amount'].quantile(0.25)\n",
    "Q3 = df['amount'].quantile(0.75)\n",
    "IQR=Q3-Q1\n",
    "lr= Q1-(1.5 * IQR)\n",
    "ur= Q3+(1.5 * IQR)\n",
    "\n",
    "amount_out = df.loc[ (df['amount']<  (Q1 - 1.5 * IQR)) | (df['amount'] > (Q3 + 1.5 * IQR))   , ]\n",
    "amount_out.shape"
   ]
  },
  {
   "cell_type": "code",
   "execution_count": 36,
   "id": "5c89905b",
   "metadata": {},
   "outputs": [
    {
     "data": {
      "text/html": [
       "<div>\n",
       "<style scoped>\n",
       "    .dataframe tbody tr th:only-of-type {\n",
       "        vertical-align: middle;\n",
       "    }\n",
       "\n",
       "    .dataframe tbody tr th {\n",
       "        vertical-align: top;\n",
       "    }\n",
       "\n",
       "    .dataframe thead th {\n",
       "        text-align: right;\n",
       "    }\n",
       "</style>\n",
       "<table border=\"1\" class=\"dataframe\">\n",
       "  <thead>\n",
       "    <tr style=\"text-align: right;\">\n",
       "      <th></th>\n",
       "      <th>duration</th>\n",
       "      <th>amount</th>\n",
       "      <th>age</th>\n",
       "    </tr>\n",
       "    <tr>\n",
       "      <th>Default</th>\n",
       "      <th></th>\n",
       "      <th></th>\n",
       "      <th></th>\n",
       "    </tr>\n",
       "  </thead>\n",
       "  <tbody>\n",
       "    <tr>\n",
       "      <th>0</th>\n",
       "      <td>11.26</td>\n",
       "      <td>2123.96</td>\n",
       "      <td>9.65</td>\n",
       "    </tr>\n",
       "    <tr>\n",
       "      <th>1</th>\n",
       "      <td>12.98</td>\n",
       "      <td>2647.84</td>\n",
       "      <td>11.87</td>\n",
       "    </tr>\n",
       "  </tbody>\n",
       "</table>\n",
       "</div>"
      ],
      "text/plain": [
       "         duration  amount   age\n",
       "Default                        \n",
       "0           11.26 2123.96  9.65\n",
       "1           12.98 2647.84 11.87"
      ]
     },
     "execution_count": 36,
     "metadata": {},
     "output_type": "execute_result"
    }
   ],
   "source": [
    "amount_out.groupby('Default').std()"
   ]
  },
  {
   "cell_type": "code",
   "execution_count": 37,
   "id": "817a98e3",
   "metadata": {},
   "outputs": [
    {
     "data": {
      "text/plain": [
       "Default\n",
       "1    39\n",
       "0    33\n",
       "dtype: int64"
      ]
     },
     "execution_count": 37,
     "metadata": {},
     "output_type": "execute_result"
    }
   ],
   "source": [
    "amount_out.value_counts('Default')"
   ]
  },
  {
   "cell_type": "code",
   "execution_count": 38,
   "id": "64904e47",
   "metadata": {},
   "outputs": [],
   "source": [
    "## Capping Outliers\n",
    "\n",
    "Q1 = df['amount'].quantile(0.25)\n",
    "Q3 = df['amount'].quantile(0.75)\n",
    "IQR=Q3-Q1\n",
    "lr= Q1-(1.5 * IQR)\n",
    "ur= Q3+(1.5 * IQR)\n",
    "df['amount'] = df['amount'].mask(df['amount']<lr, lr, )\n",
    "df['amount'] = df['amount'].mask(df['amount']>ur, ur, )"
   ]
  },
  {
   "cell_type": "code",
   "execution_count": 39,
   "id": "b5bd286a",
   "metadata": {},
   "outputs": [
    {
     "data": {
      "text/plain": [
       "<AxesSubplot:>"
      ]
     },
     "execution_count": 39,
     "metadata": {},
     "output_type": "execute_result"
    },
    {
     "data": {
      "image/png": "[encoded data removed]",
      "text/plain": [
       "<Figure size 1440x216 with 1 Axes>"
      ]
     },
     "metadata": {
      "needs_background": "light"
     },
     "output_type": "display_data"
    }
   ],
   "source": [
    "plt.rcParams['figure.figsize']=(20,3)\n",
    "sns.boxplot(data=df[\"amount\"], orient=\"h\")"
   ]
  },
  {
   "cell_type": "markdown",
   "id": "2866b106",
   "metadata": {},
   "source": [
    "## Duration"
   ]
  },
  {
   "cell_type": "code",
   "execution_count": 40,
   "id": "18a859c3",
   "metadata": {},
   "outputs": [
    {
     "data": {
      "text/plain": [
       "<AxesSubplot:>"
      ]
     },
     "execution_count": 40,
     "metadata": {},
     "output_type": "execute_result"
    },
    {
     "data": {
      "image/png": "[encoded data removed]",
      "text/plain": [
       "<Figure size 1440x288 with 1 Axes>"
      ]
     },
     "metadata": {
      "needs_background": "light"
     },
     "output_type": "display_data"
    }
   ],
   "source": [
    "import matplotlib.pyplot as plt \n",
    "plt.rcParams['figure.figsize']=(20,4)\n",
    "sns.boxplot(data=df[\"duration\"], orient=\"h\")\n",
    "## 70\n",
    "## Check profile of these outliers for duration"
   ]
  },
  {
   "cell_type": "code",
   "execution_count": 41,
   "id": "f881a277",
   "metadata": {},
   "outputs": [
    {
     "data": {
      "text/plain": [
       "(70, 21)"
      ]
     },
     "execution_count": 41,
     "metadata": {},
     "output_type": "execute_result"
    }
   ],
   "source": [
    "## Seperating Outliers ids for Duration in seperate dataframe.\n",
    "\n",
    "Q1 = df['duration'].quantile(0.25)\n",
    "Q3 = df['duration'].quantile(0.75)\n",
    "IQR=Q3-Q1\n",
    "lr= Q1-(1.5 * IQR)\n",
    "ur= Q3+(1.5 * IQR)\n",
    "\n",
    "duration_out = df.loc[ (df['duration']<  (Q1 - 1.5 * IQR)) | (df['duration'] > (Q3 + 1.5 * IQR))   , ]\n",
    "duration_out.shape"
   ]
  },
  {
   "cell_type": "code",
   "execution_count": 42,
   "id": "8b41d378",
   "metadata": {},
   "outputs": [
    {
     "data": {
      "text/html": [
       "<div>\n",
       "<style scoped>\n",
       "    .dataframe tbody tr th:only-of-type {\n",
       "        vertical-align: middle;\n",
       "    }\n",
       "\n",
       "    .dataframe tbody tr th {\n",
       "        vertical-align: top;\n",
       "    }\n",
       "\n",
       "    .dataframe thead th {\n",
       "        text-align: right;\n",
       "    }\n",
       "</style>\n",
       "<table border=\"1\" class=\"dataframe\">\n",
       "  <thead>\n",
       "    <tr style=\"text-align: right;\">\n",
       "      <th></th>\n",
       "      <th>duration</th>\n",
       "      <th>amount</th>\n",
       "      <th>age</th>\n",
       "    </tr>\n",
       "    <tr>\n",
       "      <th>Default</th>\n",
       "      <th></th>\n",
       "      <th></th>\n",
       "      <th></th>\n",
       "    </tr>\n",
       "  </thead>\n",
       "  <tbody>\n",
       "    <tr>\n",
       "      <th>0</th>\n",
       "      <td>5.28</td>\n",
       "      <td>1711.26</td>\n",
       "      <td>9.35</td>\n",
       "    </tr>\n",
       "    <tr>\n",
       "      <th>1</th>\n",
       "      <td>5.79</td>\n",
       "      <td>1754.92</td>\n",
       "      <td>12.70</td>\n",
       "    </tr>\n",
       "  </tbody>\n",
       "</table>\n",
       "</div>"
      ],
      "text/plain": [
       "         duration  amount   age\n",
       "Default                        \n",
       "0            5.28 1711.26  9.35\n",
       "1            5.79 1754.92 12.70"
      ]
     },
     "execution_count": 42,
     "metadata": {},
     "output_type": "execute_result"
    }
   ],
   "source": [
    "duration_out.groupby('Default').std()"
   ]
  },
  {
   "cell_type": "code",
   "execution_count": 43,
   "id": "aa1a1172",
   "metadata": {},
   "outputs": [
    {
     "data": {
      "text/plain": [
       "Default\n",
       "1    40\n",
       "0    30\n",
       "dtype: int64"
      ]
     },
     "execution_count": 43,
     "metadata": {},
     "output_type": "execute_result"
    }
   ],
   "source": [
    "duration_out.value_counts('Default')"
   ]
  },
  {
   "cell_type": "code",
   "execution_count": 44,
   "id": "6c2163df",
   "metadata": {},
   "outputs": [],
   "source": [
    "## Capping Outliers\n",
    "\n",
    "Q1 = df['duration'].quantile(0.25)\n",
    "Q3 = df['duration'].quantile(0.75)\n",
    "IQR=Q3-Q1\n",
    "lr= Q1-(1.5 * IQR)\n",
    "ur= Q3+(1.5 * IQR)\n",
    "df['duration'] = df['duration'].mask(df['duration']<lr, lr, )\n",
    "df['duration'] = df['duration'].mask(df['duration']>ur, ur, )"
   ]
  },
  {
   "cell_type": "code",
   "execution_count": 45,
   "id": "95395e09",
   "metadata": {},
   "outputs": [
    {
     "data": {
      "text/plain": [
       "<AxesSubplot:>"
      ]
     },
     "execution_count": 45,
     "metadata": {},
     "output_type": "execute_result"
    },
    {
     "data": {
      "image/png": "[encoded data removed]",
      "text/plain": [
       "<Figure size 1440x216 with 1 Axes>"
      ]
     },
     "metadata": {
      "needs_background": "light"
     },
     "output_type": "display_data"
    }
   ],
   "source": [
    "plt.rcParams['figure.figsize']=(20,3)\n",
    "sns.boxplot(data=df[\"duration\"], orient=\"h\")"
   ]
  },
  {
   "cell_type": "markdown",
   "id": "14dccf72",
   "metadata": {},
   "source": [
    "## Descriptive Analysis \n",
    "## Visualization"
   ]
  },
  {
   "cell_type": "code",
   "execution_count": 46,
   "id": "38b2648c",
   "metadata": {},
   "outputs": [
    {
     "name": "stdout",
     "output_type": "stream",
     "text": [
      "<class 'pandas.core.frame.DataFrame'>\n",
      "RangeIndex: 1000 entries, 0 to 999\n",
      "Data columns (total 21 columns):\n",
      " #   Column           Non-Null Count  Dtype  \n",
      "---  ------           --------------  -----  \n",
      " 0   Default          1000 non-null   object \n",
      " 1   checkingstatus1  1000 non-null   object \n",
      " 2   duration         1000 non-null   float64\n",
      " 3   history          1000 non-null   object \n",
      " 4   purpose          1000 non-null   object \n",
      " 5   amount           1000 non-null   float64\n",
      " 6   savings          1000 non-null   object \n",
      " 7   employ           1000 non-null   object \n",
      " 8   installment      1000 non-null   object \n",
      " 9   status           1000 non-null   object \n",
      " 10  others           1000 non-null   object \n",
      " 11  residence        1000 non-null   object \n",
      " 12  property         1000 non-null   object \n",
      " 13  age              1000 non-null   int64  \n",
      " 14  otherplans       1000 non-null   object \n",
      " 15  housing          1000 non-null   object \n",
      " 16  cards            1000 non-null   object \n",
      " 17  job              1000 non-null   object \n",
      " 18  liable           1000 non-null   object \n",
      " 19  tele             1000 non-null   object \n",
      " 20  foreign          1000 non-null   object \n",
      "dtypes: float64(2), int64(1), object(18)\n",
      "memory usage: 164.2+ KB\n"
     ]
    }
   ],
   "source": [
    "df.info()"
   ]
  },
  {
   "cell_type": "code",
   "execution_count": 47,
   "id": "9ff87036",
   "metadata": {},
   "outputs": [],
   "source": [
    "# Plotting multiple bar charts at once for categorical variables\n",
    "# Since there is no default function which can plot bar charts for multiple columns at once\n",
    "# we are defining our own function for the same\n",
    "\n",
    "def PlotBarCharts(inpData, colsToPlot):\n",
    "    %matplotlib inline\n",
    "    \n",
    "    import matplotlib.pyplot as plt\n",
    "    \n",
    "    # Generating multiple subplots\n",
    "    fig, subPlot=plt.subplots(nrows=1, ncols=len(colsToPlot), figsize=(20,5))\n",
    "    fig.suptitle('Bar charts of: '+ str(colsToPlot))\n",
    "\n",
    "    for colName, plotNumber in zip(colsToPlot, range(len(colsToPlot))):\n",
    "        inpData.groupby(colName).size().plot(kind='bar',ax=subPlot[plotNumber])"
   ]
  },
  {
   "cell_type": "code",
   "execution_count": 48,
   "id": "f961aeee",
   "metadata": {},
   "outputs": [
    {
     "data": {
      "image/png": "[encoded data removed]",
      "text/plain": [
       "<Figure size 1440x360 with 5 Axes>"
      ]
     },
     "metadata": {
      "needs_background": "light"
     },
     "output_type": "display_data"
    }
   ],
   "source": [
    "#####################################################################\n",
    "# Calling the function for 5 columns\n",
    "PlotBarCharts(inpData=df, \n",
    "              colsToPlot=['checkingstatus1', 'history', 'purpose','savings','employ'])"
   ]
  },
  {
   "cell_type": "code",
   "execution_count": 49,
   "id": "67909be0",
   "metadata": {},
   "outputs": [
    {
     "data": {
      "image/png": "[encoded data removed]",
      "text/plain": [
       "<Figure size 1440x360 with 5 Axes>"
      ]
     },
     "metadata": {
      "needs_background": "light"
     },
     "output_type": "display_data"
    }
   ],
   "source": [
    "# Calling the function for 5 columns\n",
    "PlotBarCharts(inpData=df, \n",
    "              colsToPlot=['installment', 'status', 'others','residence', 'property'])"
   ]
  },
  {
   "cell_type": "code",
   "execution_count": 50,
   "id": "2a55f4c0",
   "metadata": {},
   "outputs": [
    {
     "data": {
      "image/png": "[encoded data removed]",
      "text/plain": [
       "<Figure size 1440x360 with 4 Axes>"
      ]
     },
     "metadata": {
      "needs_background": "light"
     },
     "output_type": "display_data"
    }
   ],
   "source": [
    "# Calling the function for 4 columns\n",
    "PlotBarCharts(inpData=df, \n",
    "              colsToPlot=['otherplans', 'housing', 'cards', 'job'])"
   ]
  },
  {
   "cell_type": "code",
   "execution_count": 51,
   "id": "3c99943b",
   "metadata": {},
   "outputs": [
    {
     "data": {
      "image/png": "[encoded data removed]",
      "text/plain": [
       "<Figure size 1440x360 with 3 Axes>"
      ]
     },
     "metadata": {
      "needs_background": "light"
     },
     "output_type": "display_data"
    }
   ],
   "source": [
    "# Calling the function for 3 columns\n",
    "PlotBarCharts(inpData=df, \n",
    "              colsToPlot=['liable', 'tele', 'foreign'])"
   ]
  },
  {
   "cell_type": "code",
   "execution_count": 52,
   "id": "37a6a5b0",
   "metadata": {},
   "outputs": [
    {
     "data": {
      "text/plain": [
       "array([[<AxesSubplot:title={'center':'age'}>,\n",
       "        <AxesSubplot:title={'center':'amount'}>],\n",
       "       [<AxesSubplot:title={'center':'duration'}>, <AxesSubplot:>]],\n",
       "      dtype=object)"
      ]
     },
     "execution_count": 52,
     "metadata": {},
     "output_type": "execute_result"
    },
    {
     "data": {
      "image/png": "[encoded data removed]",
      "text/plain": [
       "<Figure size 1296x720 with 4 Axes>"
      ]
     },
     "metadata": {
      "needs_background": "light"
     },
     "output_type": "display_data"
    }
   ],
   "source": [
    "df.hist(['age', 'amount','duration'], figsize=(18,10))"
   ]
  },
  {
   "cell_type": "code",
   "execution_count": 53,
   "id": "b2c500a1",
   "metadata": {},
   "outputs": [
    {
     "ename": "NameError",
     "evalue": "name 'uhguhghkg' is not defined",
     "output_type": "error",
     "traceback": [
      "\u001b[1;31m---------------------------------------------------------------------------\u001b[0m",
      "\u001b[1;31mNameError\u001b[0m                                 Traceback (most recent call last)",
      "\u001b[1;32m~\\AppData\\Local\\Temp\\ipykernel_26696\\1270458955.py\u001b[0m in \u001b[0;36m<module>\u001b[1;34m\u001b[0m\n\u001b[1;32m----> 1\u001b[1;33m \u001b[0muhguhghkg\u001b[0m\u001b[1;33m\u001b[0m\u001b[1;33m\u001b[0m\u001b[0m\n\u001b[0m",
      "\u001b[1;31mNameError\u001b[0m: name 'uhguhghkg' is not defined"
     ]
    }
   ],
   "source": []
  },
  {
   "cell_type": "code",
   "execution_count": null,
   "id": "36181481",
   "metadata": {},
   "outputs": [],
   "source": []
  },
  {
   "cell_type": "code",
   "execution_count": null,
   "id": "f86bfd73",
   "metadata": {},
   "outputs": [],
   "source": []
  },
  {
   "cell_type": "code",
   "execution_count": null,
   "id": "a1bf4467",
   "metadata": {},
   "outputs": [],
   "source": []
  },
  {
   "cell_type": "code",
   "execution_count": null,
   "id": "2ff97052",
   "metadata": {},
   "outputs": [],
   "source": [
    "df['Default'].value_counts()"
   ]
  },
  {
   "cell_type": "code",
   "execution_count": 54,
   "id": "7d02a7ec",
   "metadata": {},
   "outputs": [
    {
     "data": {
      "image/png": "[encoded data removed]",
      "text/plain": [
       "<Figure size 432x288 with 1 Axes>"
      ]
     },
     "metadata": {},
     "output_type": "display_data"
    }
   ],
   "source": [
    "# declaring data\n",
    "data = [700, 300]\n",
    "keys = ['Non Default', 'Default']\n",
    "  \n",
    "# declaring exploding pie\n",
    "explode = [0, 0.1]\n",
    "# define Seaborn color palette to use\n",
    "palette_color = sns.color_palette('muted')\n",
    "  \n",
    "# plotting data on chart\n",
    "plt.pie(data, labels=keys, colors=palette_color,\n",
    "        explode=explode, autopct='%.0f%%')\n",
    "  \n",
    "# displaying chart\n",
    "plt.show()"
   ]
  },
  {
   "cell_type": "code",
   "execution_count": null,
   "id": "b404d461",
   "metadata": {},
   "outputs": [],
   "source": [
    " #df.groupby(['history','Default']).mean()"
   ]
  },
  {
   "cell_type": "markdown",
   "id": "8e031b9c",
   "metadata": {},
   "source": [
    "### History and Amount"
   ]
  },
  {
   "cell_type": "code",
   "execution_count": 58,
   "id": "4d5b3e9a",
   "metadata": {},
   "outputs": [
    {
     "data": {
      "text/plain": [
       "<AxesSubplot:xlabel='history', ylabel='count'>"
      ]
     },
     "execution_count": 58,
     "metadata": {},
     "output_type": "execute_result"
    },
    {
     "data": {
      "image/png": "[encoded data removed]",
      "text/plain": [
       "<Figure size 720x432 with 1 Axes>"
      ]
     },
     "metadata": {
      "needs_background": "light"
     },
     "output_type": "display_data"
    }
   ],
   "source": [
    "plt.rcParams['figure.figsize']=(10,6)\n",
    "\n",
    "sns.countplot(data=df, x=\"history\", hue=\"Default\")\n"
   ]
  },
  {
   "cell_type": "markdown",
   "id": "5e4a89c3",
   "metadata": {},
   "source": [
    "### Purpose and Amount"
   ]
  },
  {
   "cell_type": "code",
   "execution_count": 59,
   "id": "bf332733",
   "metadata": {},
   "outputs": [
    {
     "data": {
      "text/plain": [
       "<AxesSubplot:xlabel='purpose', ylabel='count'>"
      ]
     },
     "execution_count": 59,
     "metadata": {},
     "output_type": "execute_result"
    },
    {
     "data": {
      "image/png": "[encoded data removed]",
      "text/plain": [
       "<Figure size 720x432 with 1 Axes>"
      ]
     },
     "metadata": {
      "needs_background": "light"
     },
     "output_type": "display_data"
    }
   ],
   "source": [
    "sns.countplot(data=df, x=\"purpose\", hue=\"Default\")\n"
   ]
  },
  {
   "cell_type": "markdown",
   "id": "49222106",
   "metadata": {},
   "source": [
    "### Status and Amount"
   ]
  },
  {
   "cell_type": "code",
   "execution_count": 60,
   "id": "9b2cb862",
   "metadata": {},
   "outputs": [
    {
     "data": {
      "text/plain": [
       "<AxesSubplot:xlabel='status', ylabel='count'>"
      ]
     },
     "execution_count": 60,
     "metadata": {},
     "output_type": "execute_result"
    },
    {
     "data": {
      "image/png": "[encoded data removed]",
      "text/plain": [
       "<Figure size 720x432 with 1 Axes>"
      ]
     },
     "metadata": {
      "needs_background": "light"
     },
     "output_type": "display_data"
    }
   ],
   "source": [
    "sns.countplot(data=df, x=\"status\", hue=\"Default\")\n"
   ]
  },
  {
   "cell_type": "markdown",
   "id": "4c739e38",
   "metadata": {},
   "source": [
    "### Job and Amount"
   ]
  },
  {
   "cell_type": "code",
   "execution_count": 61,
   "id": "eb08a6ca",
   "metadata": {},
   "outputs": [
    {
     "data": {
      "text/plain": [
       "<AxesSubplot:xlabel='status', ylabel='count'>"
      ]
     },
     "execution_count": 61,
     "metadata": {},
     "output_type": "execute_result"
    },
    {
     "data": {
      "image/png": "[encoded data removed]",
      "text/plain": [
       "<Figure size 720x432 with 1 Axes>"
      ]
     },
     "metadata": {
      "needs_background": "light"
     },
     "output_type": "display_data"
    }
   ],
   "source": [
    "sns.countplot(data=df, x=\"status\", hue=\"Default\")\n"
   ]
  },
  {
   "cell_type": "code",
   "execution_count": 66,
   "id": "a8dae3b1",
   "metadata": {},
   "outputs": [
    {
     "data": {
      "image/png": "[encoded data removed]",
      "text/plain": [
       "<Figure size 720x6480 with 17 Axes>"
      ]
     },
     "metadata": {
      "needs_background": "light"
     },
     "output_type": "display_data"
    }
   ],
   "source": [
    "# Visual Inference using Grouped Bar charts\n",
    "CategoricalColsList=['checkingstatus1', 'history', 'purpose','savings','employ',\n",
    "                     'installment', 'status', 'others','residence', 'property',\n",
    "                     'otherplans', 'housing', 'cards', 'job', 'liable', 'tele', 'foreign']\n",
    "\n",
    "import matplotlib.pyplot as plt\n",
    "fig, PlotCanvas=plt.subplots(nrows=len(CategoricalColsList), ncols=1, figsize=(10,90))\n",
    "\n",
    "# Creating Grouped bar plots for each categorical predictor against the Target Variable \"GoodCredit\"\n",
    "for CategoricalCol , i in zip(CategoricalColsList, range(len(CategoricalColsList))):\n",
    "    CrossTabResult=pd.crosstab(index=df[CategoricalCol], columns=df['Default'])\n",
    "    CrossTabResult.plot.bar(color=['green','red'], ax=PlotCanvas[i])"
   ]
  },
  {
   "cell_type": "markdown",
   "id": "4e51df41",
   "metadata": {},
   "source": [
    "# Dealing Multicolinearity"
   ]
  },
  {
   "cell_type": "code",
   "execution_count": 67,
   "id": "9e728641",
   "metadata": {},
   "outputs": [
    {
     "data": {
      "image/png": "[encoded data removed]",
      "text/plain": [
       "<Figure size 432x216 with 2 Axes>"
      ]
     },
     "metadata": {
      "needs_background": "light"
     },
     "output_type": "display_data"
    }
   ],
   "source": [
    "# correlation matrix\n",
    "# import libraries\n",
    "import matplotlib.pyplot as plt\n",
    "import seaborn as sns\n",
    "\n",
    "# set figure size\n",
    "plt.figure(figsize=(6,3))\n",
    "\n",
    "# Generate a mask to onlyshow the bottom triangle\n",
    "#mask = np.triu(np.ones_like(df_norm.corr(), dtype=bool))\n",
    "\n",
    "# generate heatmap\n",
    "sns.heatmap(df.corr(), annot=True, vmin=-1, vmax=1)\n",
    "plt.title('Correlation Coefficient Of Predictors')\n",
    "plt.show()\n",
    "\n",
    "## ****ASK HOW INTERPRETATION OF HIGH CORRELATION DONE****"
   ]
  },
  {
   "cell_type": "code",
   "execution_count": 68,
   "id": "7c5cb248",
   "metadata": {},
   "outputs": [],
   "source": [
    "\n",
    "#VIF\n",
    "from statsmodels.stats.outliers_influence import variance_inflation_factor\n",
    "from statsmodels.tools.tools import add_constant\n",
    "\n",
    "def compute_vif(considered_features):\n",
    "    \n",
    "    v = df[considered_features]\n",
    "    v['intercept'] = 1\n",
    "    \n",
    "    vif = pd.DataFrame()\n",
    "    vif[\"Variable\"] = v.columns\n",
    "    vif[\"VIF\"] = [variance_inflation_factor(v.values, i) for i in range(v.shape[1])]\n",
    "    vif = vif[vif['Variable']!= 'intercept']\n",
    "    return vif\n",
    "\n",
    "## Multicollinearity is handeled with VIF, but not its nature\n",
    "\n"
   ]
  },
  {
   "cell_type": "code",
   "execution_count": 69,
   "id": "c6e9dbc1",
   "metadata": {},
   "outputs": [],
   "source": [
    "considered_features = ['duration','amount','age']"
   ]
  },
  {
   "cell_type": "code",
   "execution_count": 70,
   "id": "2fbd6eac",
   "metadata": {},
   "outputs": [
    {
     "data": {
      "text/html": [
       "<div>\n",
       "<style scoped>\n",
       "    .dataframe tbody tr th:only-of-type {\n",
       "        vertical-align: middle;\n",
       "    }\n",
       "\n",
       "    .dataframe tbody tr th {\n",
       "        vertical-align: top;\n",
       "    }\n",
       "\n",
       "    .dataframe thead th {\n",
       "        text-align: right;\n",
       "    }\n",
       "</style>\n",
       "<table border=\"1\" class=\"dataframe\">\n",
       "  <thead>\n",
       "    <tr style=\"text-align: right;\">\n",
       "      <th></th>\n",
       "      <th>Variable</th>\n",
       "      <th>VIF</th>\n",
       "    </tr>\n",
       "  </thead>\n",
       "  <tbody>\n",
       "    <tr>\n",
       "      <th>0</th>\n",
       "      <td>duration</td>\n",
       "      <td>1.71</td>\n",
       "    </tr>\n",
       "    <tr>\n",
       "      <th>1</th>\n",
       "      <td>amount</td>\n",
       "      <td>1.71</td>\n",
       "    </tr>\n",
       "    <tr>\n",
       "      <th>2</th>\n",
       "      <td>age</td>\n",
       "      <td>1.01</td>\n",
       "    </tr>\n",
       "  </tbody>\n",
       "</table>\n",
       "</div>"
      ],
      "text/plain": [
       "   Variable  VIF\n",
       "0  duration 1.71\n",
       "1    amount 1.71\n",
       "2       age 1.01"
      ]
     },
     "execution_count": 70,
     "metadata": {},
     "output_type": "execute_result"
    }
   ],
   "source": [
    "\n",
    "compute_vif(considered_features).sort_values('VIF', ascending=False)\n"
   ]
  },
  {
   "cell_type": "markdown",
   "id": "f36591d0",
   "metadata": {},
   "source": [
    "- No Multicollinearity."
   ]
  },
  {
   "cell_type": "markdown",
   "id": "cef01229",
   "metadata": {},
   "source": [
    "# Normalization"
   ]
  },
  {
   "cell_type": "code",
   "execution_count": 72,
   "id": "d9f773e1",
   "metadata": {},
   "outputs": [
    {
     "data": {
      "text/html": [
       "<div>\n",
       "<style scoped>\n",
       "    .dataframe tbody tr th:only-of-type {\n",
       "        vertical-align: middle;\n",
       "    }\n",
       "\n",
       "    .dataframe tbody tr th {\n",
       "        vertical-align: top;\n",
       "    }\n",
       "\n",
       "    .dataframe thead th {\n",
       "        text-align: right;\n",
       "    }\n",
       "</style>\n",
       "<table border=\"1\" class=\"dataframe\">\n",
       "  <thead>\n",
       "    <tr style=\"text-align: right;\">\n",
       "      <th></th>\n",
       "      <th>duration</th>\n",
       "      <th>amount</th>\n",
       "      <th>age</th>\n",
       "    </tr>\n",
       "  </thead>\n",
       "  <tbody>\n",
       "    <tr>\n",
       "      <th>count</th>\n",
       "      <td>1000.00</td>\n",
       "      <td>1000.00</td>\n",
       "      <td>1000.00</td>\n",
       "    </tr>\n",
       "    <tr>\n",
       "      <th>mean</th>\n",
       "      <td>20.31</td>\n",
       "      <td>3051.10</td>\n",
       "      <td>35.55</td>\n",
       "    </tr>\n",
       "    <tr>\n",
       "      <th>std</th>\n",
       "      <td>10.62</td>\n",
       "      <td>2187.14</td>\n",
       "      <td>11.38</td>\n",
       "    </tr>\n",
       "    <tr>\n",
       "      <th>min</th>\n",
       "      <td>4.00</td>\n",
       "      <td>250.00</td>\n",
       "      <td>19.00</td>\n",
       "    </tr>\n",
       "    <tr>\n",
       "      <th>25%</th>\n",
       "      <td>12.00</td>\n",
       "      <td>1365.50</td>\n",
       "      <td>27.00</td>\n",
       "    </tr>\n",
       "    <tr>\n",
       "      <th>50%</th>\n",
       "      <td>18.00</td>\n",
       "      <td>2319.50</td>\n",
       "      <td>33.00</td>\n",
       "    </tr>\n",
       "    <tr>\n",
       "      <th>75%</th>\n",
       "      <td>24.00</td>\n",
       "      <td>3972.25</td>\n",
       "      <td>42.00</td>\n",
       "    </tr>\n",
       "    <tr>\n",
       "      <th>max</th>\n",
       "      <td>42.00</td>\n",
       "      <td>7882.38</td>\n",
       "      <td>75.00</td>\n",
       "    </tr>\n",
       "  </tbody>\n",
       "</table>\n",
       "</div>"
      ],
      "text/plain": [
       "       duration  amount     age\n",
       "count   1000.00 1000.00 1000.00\n",
       "mean      20.31 3051.10   35.55\n",
       "std       10.62 2187.14   11.38\n",
       "min        4.00  250.00   19.00\n",
       "25%       12.00 1365.50   27.00\n",
       "50%       18.00 2319.50   33.00\n",
       "75%       24.00 3972.25   42.00\n",
       "max       42.00 7882.38   75.00"
      ]
     },
     "execution_count": 72,
     "metadata": {},
     "output_type": "execute_result"
    }
   ],
   "source": [
    "df.describe()"
   ]
  },
  {
   "cell_type": "code",
   "execution_count": 73,
   "id": "89d76d75",
   "metadata": {},
   "outputs": [],
   "source": [
    "df_num = df.loc[:,['duration','amount','age']]"
   ]
  },
  {
   "cell_type": "code",
   "execution_count": 74,
   "id": "6f9cf9d0",
   "metadata": {},
   "outputs": [],
   "source": [
    "df_num_norm = stats.zscore(df_num)"
   ]
  },
  {
   "cell_type": "code",
   "execution_count": 75,
   "id": "7d8a4eb5",
   "metadata": {},
   "outputs": [],
   "source": [
    "df_var = df.drop(['duration','amount','age'], axis =1)"
   ]
  },
  {
   "cell_type": "code",
   "execution_count": 76,
   "id": "a9639b8d",
   "metadata": {},
   "outputs": [
    {
     "name": "stdout",
     "output_type": "stream",
     "text": [
      "<class 'pandas.core.frame.DataFrame'>\n",
      "RangeIndex: 1000 entries, 0 to 999\n",
      "Data columns (total 21 columns):\n",
      " #   Column           Non-Null Count  Dtype  \n",
      "---  ------           --------------  -----  \n",
      " 0   duration         1000 non-null   float64\n",
      " 1   amount           1000 non-null   float64\n",
      " 2   age              1000 non-null   float64\n",
      " 3   Default          1000 non-null   object \n",
      " 4   checkingstatus1  1000 non-null   object \n",
      " 5   history          1000 non-null   object \n",
      " 6   purpose          1000 non-null   object \n",
      " 7   savings          1000 non-null   object \n",
      " 8   employ           1000 non-null   object \n",
      " 9   installment      1000 non-null   object \n",
      " 10  status           1000 non-null   object \n",
      " 11  others           1000 non-null   object \n",
      " 12  residence        1000 non-null   object \n",
      " 13  property         1000 non-null   object \n",
      " 14  otherplans       1000 non-null   object \n",
      " 15  housing          1000 non-null   object \n",
      " 16  cards            1000 non-null   object \n",
      " 17  job              1000 non-null   object \n",
      " 18  liable           1000 non-null   object \n",
      " 19  tele             1000 non-null   object \n",
      " 20  foreign          1000 non-null   object \n",
      "dtypes: float64(3), object(18)\n",
      "memory usage: 164.2+ KB\n"
     ]
    }
   ],
   "source": [
    "df_norm = pd.concat([df_num_norm,df_var], axis = 1)\n",
    "df_norm.info()"
   ]
  },
  {
   "cell_type": "code",
   "execution_count": 77,
   "id": "797f833b",
   "metadata": {},
   "outputs": [
    {
     "data": {
      "text/html": [
       "<div>\n",
       "<style scoped>\n",
       "    .dataframe tbody tr th:only-of-type {\n",
       "        vertical-align: middle;\n",
       "    }\n",
       "\n",
       "    .dataframe tbody tr th {\n",
       "        vertical-align: top;\n",
       "    }\n",
       "\n",
       "    .dataframe thead th {\n",
       "        text-align: right;\n",
       "    }\n",
       "</style>\n",
       "<table border=\"1\" class=\"dataframe\">\n",
       "  <thead>\n",
       "    <tr style=\"text-align: right;\">\n",
       "      <th></th>\n",
       "      <th>duration</th>\n",
       "      <th>amount</th>\n",
       "      <th>age</th>\n",
       "      <th>Default</th>\n",
       "      <th>checkingstatus1</th>\n",
       "      <th>history</th>\n",
       "      <th>purpose</th>\n",
       "      <th>savings</th>\n",
       "      <th>employ</th>\n",
       "      <th>installment</th>\n",
       "      <th>status</th>\n",
       "      <th>others</th>\n",
       "      <th>residence</th>\n",
       "      <th>property</th>\n",
       "      <th>otherplans</th>\n",
       "      <th>housing</th>\n",
       "      <th>cards</th>\n",
       "      <th>job</th>\n",
       "      <th>liable</th>\n",
       "      <th>tele</th>\n",
       "      <th>foreign</th>\n",
       "    </tr>\n",
       "  </thead>\n",
       "  <tbody>\n",
       "    <tr>\n",
       "      <th>0</th>\n",
       "      <td>-1.35</td>\n",
       "      <td>-0.86</td>\n",
       "      <td>2.77</td>\n",
       "      <td>0</td>\n",
       "      <td>A11</td>\n",
       "      <td>A34</td>\n",
       "      <td>A43</td>\n",
       "      <td>A65</td>\n",
       "      <td>A75</td>\n",
       "      <td>4</td>\n",
       "      <td>A93</td>\n",
       "      <td>A101</td>\n",
       "      <td>4</td>\n",
       "      <td>A121</td>\n",
       "      <td>A143</td>\n",
       "      <td>A152</td>\n",
       "      <td>2</td>\n",
       "      <td>A173</td>\n",
       "      <td>1</td>\n",
       "      <td>A192</td>\n",
       "      <td>A201</td>\n",
       "    </tr>\n",
       "    <tr>\n",
       "      <th>1</th>\n",
       "      <td>2.04</td>\n",
       "      <td>1.33</td>\n",
       "      <td>-1.19</td>\n",
       "      <td>1</td>\n",
       "      <td>A12</td>\n",
       "      <td>A32</td>\n",
       "      <td>A43</td>\n",
       "      <td>A61</td>\n",
       "      <td>A73</td>\n",
       "      <td>2</td>\n",
       "      <td>A92</td>\n",
       "      <td>A101</td>\n",
       "      <td>2</td>\n",
       "      <td>A121</td>\n",
       "      <td>A143</td>\n",
       "      <td>A152</td>\n",
       "      <td>1</td>\n",
       "      <td>A173</td>\n",
       "      <td>1</td>\n",
       "      <td>A191</td>\n",
       "      <td>A201</td>\n",
       "    </tr>\n",
       "    <tr>\n",
       "      <th>2</th>\n",
       "      <td>-0.78</td>\n",
       "      <td>-0.44</td>\n",
       "      <td>1.18</td>\n",
       "      <td>0</td>\n",
       "      <td>A14</td>\n",
       "      <td>A34</td>\n",
       "      <td>A46</td>\n",
       "      <td>A61</td>\n",
       "      <td>A74</td>\n",
       "      <td>2</td>\n",
       "      <td>A93</td>\n",
       "      <td>A101</td>\n",
       "      <td>3</td>\n",
       "      <td>A121</td>\n",
       "      <td>A143</td>\n",
       "      <td>A152</td>\n",
       "      <td>1</td>\n",
       "      <td>A172</td>\n",
       "      <td>2</td>\n",
       "      <td>A191</td>\n",
       "      <td>A201</td>\n",
       "    </tr>\n",
       "    <tr>\n",
       "      <th>3</th>\n",
       "      <td>2.04</td>\n",
       "      <td>2.21</td>\n",
       "      <td>0.83</td>\n",
       "      <td>0</td>\n",
       "      <td>A11</td>\n",
       "      <td>A32</td>\n",
       "      <td>A42</td>\n",
       "      <td>A61</td>\n",
       "      <td>A74</td>\n",
       "      <td>2</td>\n",
       "      <td>A93</td>\n",
       "      <td>A103</td>\n",
       "      <td>4</td>\n",
       "      <td>A122</td>\n",
       "      <td>A143</td>\n",
       "      <td>A153</td>\n",
       "      <td>1</td>\n",
       "      <td>A173</td>\n",
       "      <td>2</td>\n",
       "      <td>A191</td>\n",
       "      <td>A201</td>\n",
       "    </tr>\n",
       "    <tr>\n",
       "      <th>4</th>\n",
       "      <td>0.35</td>\n",
       "      <td>0.83</td>\n",
       "      <td>1.54</td>\n",
       "      <td>1</td>\n",
       "      <td>A11</td>\n",
       "      <td>A33</td>\n",
       "      <td>A40</td>\n",
       "      <td>A61</td>\n",
       "      <td>A73</td>\n",
       "      <td>3</td>\n",
       "      <td>A93</td>\n",
       "      <td>A101</td>\n",
       "      <td>4</td>\n",
       "      <td>A124</td>\n",
       "      <td>A143</td>\n",
       "      <td>A153</td>\n",
       "      <td>2</td>\n",
       "      <td>A173</td>\n",
       "      <td>2</td>\n",
       "      <td>A191</td>\n",
       "      <td>A201</td>\n",
       "    </tr>\n",
       "  </tbody>\n",
       "</table>\n",
       "</div>"
      ],
      "text/plain": [
       "   duration  amount   age Default checkingstatus1 history purpose savings  \\\n",
       "0     -1.35   -0.86  2.77       0             A11     A34     A43     A65   \n",
       "1      2.04    1.33 -1.19       1             A12     A32     A43     A61   \n",
       "2     -0.78   -0.44  1.18       0             A14     A34     A46     A61   \n",
       "3      2.04    2.21  0.83       0             A11     A32     A42     A61   \n",
       "4      0.35    0.83  1.54       1             A11     A33     A40     A61   \n",
       "\n",
       "  employ installment status others residence property otherplans housing  \\\n",
       "0    A75           4    A93   A101         4     A121       A143    A152   \n",
       "1    A73           2    A92   A101         2     A121       A143    A152   \n",
       "2    A74           2    A93   A101         3     A121       A143    A152   \n",
       "3    A74           2    A93   A103         4     A122       A143    A153   \n",
       "4    A73           3    A93   A101         4     A124       A143    A153   \n",
       "\n",
       "  cards   job liable  tele foreign  \n",
       "0     2  A173      1  A192    A201  \n",
       "1     1  A173      1  A191    A201  \n",
       "2     1  A172      2  A191    A201  \n",
       "3     1  A173      2  A191    A201  \n",
       "4     2  A173      2  A191    A201  "
      ]
     },
     "execution_count": 77,
     "metadata": {},
     "output_type": "execute_result"
    }
   ],
   "source": [
    "df_norm.head()"
   ]
  },
  {
   "cell_type": "markdown",
   "id": "d4913e67",
   "metadata": {},
   "source": [
    "# Dummy Encoding"
   ]
  },
  {
   "cell_type": "code",
   "execution_count": 78,
   "id": "b00341e7",
   "metadata": {},
   "outputs": [
    {
     "name": "stdout",
     "output_type": "stream",
     "text": [
      "<class 'pandas.core.frame.DataFrame'>\n",
      "RangeIndex: 1000 entries, 0 to 999\n",
      "Data columns (total 21 columns):\n",
      " #   Column           Non-Null Count  Dtype  \n",
      "---  ------           --------------  -----  \n",
      " 0   duration         1000 non-null   float64\n",
      " 1   amount           1000 non-null   float64\n",
      " 2   age              1000 non-null   float64\n",
      " 3   Default          1000 non-null   object \n",
      " 4   checkingstatus1  1000 non-null   object \n",
      " 5   history          1000 non-null   object \n",
      " 6   purpose          1000 non-null   object \n",
      " 7   savings          1000 non-null   object \n",
      " 8   employ           1000 non-null   object \n",
      " 9   installment      1000 non-null   object \n",
      " 10  status           1000 non-null   object \n",
      " 11  others           1000 non-null   object \n",
      " 12  residence        1000 non-null   object \n",
      " 13  property         1000 non-null   object \n",
      " 14  otherplans       1000 non-null   object \n",
      " 15  housing          1000 non-null   object \n",
      " 16  cards            1000 non-null   object \n",
      " 17  job              1000 non-null   object \n",
      " 18  liable           1000 non-null   object \n",
      " 19  tele             1000 non-null   object \n",
      " 20  foreign          1000 non-null   object \n",
      "dtypes: float64(3), object(18)\n",
      "memory usage: 164.2+ KB\n"
     ]
    }
   ],
   "source": [
    "df_norm.info()"
   ]
  },
  {
   "cell_type": "code",
   "execution_count": 79,
   "id": "3a1b18d2",
   "metadata": {},
   "outputs": [],
   "source": [
    "df_num_norm_dumm = df_norm.loc[:,[\"duration\",\"amount\",\"age\"]]\n"
   ]
  },
  {
   "cell_type": "code",
   "execution_count": 80,
   "id": "67ffc20d",
   "metadata": {
    "collapsed": true
   },
   "outputs": [
    {
     "data": {
      "text/html": [
       "<div>\n",
       "<style scoped>\n",
       "    .dataframe tbody tr th:only-of-type {\n",
       "        vertical-align: middle;\n",
       "    }\n",
       "\n",
       "    .dataframe tbody tr th {\n",
       "        vertical-align: top;\n",
       "    }\n",
       "\n",
       "    .dataframe thead th {\n",
       "        text-align: right;\n",
       "    }\n",
       "</style>\n",
       "<table border=\"1\" class=\"dataframe\">\n",
       "  <thead>\n",
       "    <tr style=\"text-align: right;\">\n",
       "      <th></th>\n",
       "      <th>Default_1</th>\n",
       "      <th>checkingstatus1_A12</th>\n",
       "      <th>checkingstatus1_A13</th>\n",
       "      <th>checkingstatus1_A14</th>\n",
       "      <th>history_A31</th>\n",
       "      <th>history_A32</th>\n",
       "      <th>history_A33</th>\n",
       "      <th>history_A34</th>\n",
       "      <th>purpose_A41</th>\n",
       "      <th>purpose_A410</th>\n",
       "      <th>purpose_A42</th>\n",
       "      <th>purpose_A43</th>\n",
       "      <th>...</th>\n",
       "      <th>otherplans_A143</th>\n",
       "      <th>housing_A152</th>\n",
       "      <th>housing_A153</th>\n",
       "      <th>cards_2</th>\n",
       "      <th>cards_3</th>\n",
       "      <th>cards_4</th>\n",
       "      <th>job_A172</th>\n",
       "      <th>job_A173</th>\n",
       "      <th>job_A174</th>\n",
       "      <th>liable_2</th>\n",
       "      <th>tele_A192</th>\n",
       "      <th>foreign_A202</th>\n",
       "    </tr>\n",
       "  </thead>\n",
       "  <tbody>\n",
       "    <tr>\n",
       "      <th>0</th>\n",
       "      <td>0</td>\n",
       "      <td>0</td>\n",
       "      <td>0</td>\n",
       "      <td>0</td>\n",
       "      <td>0</td>\n",
       "      <td>0</td>\n",
       "      <td>0</td>\n",
       "      <td>1</td>\n",
       "      <td>0</td>\n",
       "      <td>0</td>\n",
       "      <td>0</td>\n",
       "      <td>1</td>\n",
       "      <td>...</td>\n",
       "      <td>1</td>\n",
       "      <td>1</td>\n",
       "      <td>0</td>\n",
       "      <td>1</td>\n",
       "      <td>0</td>\n",
       "      <td>0</td>\n",
       "      <td>0</td>\n",
       "      <td>1</td>\n",
       "      <td>0</td>\n",
       "      <td>0</td>\n",
       "      <td>1</td>\n",
       "      <td>0</td>\n",
       "    </tr>\n",
       "    <tr>\n",
       "      <th>1</th>\n",
       "      <td>1</td>\n",
       "      <td>1</td>\n",
       "      <td>0</td>\n",
       "      <td>0</td>\n",
       "      <td>0</td>\n",
       "      <td>1</td>\n",
       "      <td>0</td>\n",
       "      <td>0</td>\n",
       "      <td>0</td>\n",
       "      <td>0</td>\n",
       "      <td>0</td>\n",
       "      <td>1</td>\n",
       "      <td>...</td>\n",
       "      <td>1</td>\n",
       "      <td>1</td>\n",
       "      <td>0</td>\n",
       "      <td>0</td>\n",
       "      <td>0</td>\n",
       "      <td>0</td>\n",
       "      <td>0</td>\n",
       "      <td>1</td>\n",
       "      <td>0</td>\n",
       "      <td>0</td>\n",
       "      <td>0</td>\n",
       "      <td>0</td>\n",
       "    </tr>\n",
       "    <tr>\n",
       "      <th>2</th>\n",
       "      <td>0</td>\n",
       "      <td>0</td>\n",
       "      <td>0</td>\n",
       "      <td>1</td>\n",
       "      <td>0</td>\n",
       "      <td>0</td>\n",
       "      <td>0</td>\n",
       "      <td>1</td>\n",
       "      <td>0</td>\n",
       "      <td>0</td>\n",
       "      <td>0</td>\n",
       "      <td>0</td>\n",
       "      <td>...</td>\n",
       "      <td>1</td>\n",
       "      <td>1</td>\n",
       "      <td>0</td>\n",
       "      <td>0</td>\n",
       "      <td>0</td>\n",
       "      <td>0</td>\n",
       "      <td>1</td>\n",
       "      <td>0</td>\n",
       "      <td>0</td>\n",
       "      <td>1</td>\n",
       "      <td>0</td>\n",
       "      <td>0</td>\n",
       "    </tr>\n",
       "    <tr>\n",
       "      <th>3</th>\n",
       "      <td>0</td>\n",
       "      <td>0</td>\n",
       "      <td>0</td>\n",
       "      <td>0</td>\n",
       "      <td>0</td>\n",
       "      <td>1</td>\n",
       "      <td>0</td>\n",
       "      <td>0</td>\n",
       "      <td>0</td>\n",
       "      <td>0</td>\n",
       "      <td>1</td>\n",
       "      <td>0</td>\n",
       "      <td>...</td>\n",
       "      <td>1</td>\n",
       "      <td>0</td>\n",
       "      <td>1</td>\n",
       "      <td>0</td>\n",
       "      <td>0</td>\n",
       "      <td>0</td>\n",
       "      <td>0</td>\n",
       "      <td>1</td>\n",
       "      <td>0</td>\n",
       "      <td>1</td>\n",
       "      <td>0</td>\n",
       "      <td>0</td>\n",
       "    </tr>\n",
       "    <tr>\n",
       "      <th>4</th>\n",
       "      <td>1</td>\n",
       "      <td>0</td>\n",
       "      <td>0</td>\n",
       "      <td>0</td>\n",
       "      <td>0</td>\n",
       "      <td>0</td>\n",
       "      <td>1</td>\n",
       "      <td>0</td>\n",
       "      <td>0</td>\n",
       "      <td>0</td>\n",
       "      <td>0</td>\n",
       "      <td>0</td>\n",
       "      <td>...</td>\n",
       "      <td>1</td>\n",
       "      <td>0</td>\n",
       "      <td>1</td>\n",
       "      <td>1</td>\n",
       "      <td>0</td>\n",
       "      <td>0</td>\n",
       "      <td>0</td>\n",
       "      <td>1</td>\n",
       "      <td>0</td>\n",
       "      <td>1</td>\n",
       "      <td>0</td>\n",
       "      <td>0</td>\n",
       "    </tr>\n",
       "    <tr>\n",
       "      <th>...</th>\n",
       "      <td>...</td>\n",
       "      <td>...</td>\n",
       "      <td>...</td>\n",
       "      <td>...</td>\n",
       "      <td>...</td>\n",
       "      <td>...</td>\n",
       "      <td>...</td>\n",
       "      <td>...</td>\n",
       "      <td>...</td>\n",
       "      <td>...</td>\n",
       "      <td>...</td>\n",
       "      <td>...</td>\n",
       "      <td>...</td>\n",
       "      <td>...</td>\n",
       "      <td>...</td>\n",
       "      <td>...</td>\n",
       "      <td>...</td>\n",
       "      <td>...</td>\n",
       "      <td>...</td>\n",
       "      <td>...</td>\n",
       "      <td>...</td>\n",
       "      <td>...</td>\n",
       "      <td>...</td>\n",
       "      <td>...</td>\n",
       "      <td>...</td>\n",
       "    </tr>\n",
       "    <tr>\n",
       "      <th>995</th>\n",
       "      <td>0</td>\n",
       "      <td>0</td>\n",
       "      <td>0</td>\n",
       "      <td>1</td>\n",
       "      <td>0</td>\n",
       "      <td>1</td>\n",
       "      <td>0</td>\n",
       "      <td>0</td>\n",
       "      <td>0</td>\n",
       "      <td>0</td>\n",
       "      <td>1</td>\n",
       "      <td>0</td>\n",
       "      <td>...</td>\n",
       "      <td>1</td>\n",
       "      <td>1</td>\n",
       "      <td>0</td>\n",
       "      <td>0</td>\n",
       "      <td>0</td>\n",
       "      <td>0</td>\n",
       "      <td>1</td>\n",
       "      <td>0</td>\n",
       "      <td>0</td>\n",
       "      <td>0</td>\n",
       "      <td>0</td>\n",
       "      <td>0</td>\n",
       "    </tr>\n",
       "    <tr>\n",
       "      <th>996</th>\n",
       "      <td>0</td>\n",
       "      <td>0</td>\n",
       "      <td>0</td>\n",
       "      <td>0</td>\n",
       "      <td>0</td>\n",
       "      <td>1</td>\n",
       "      <td>0</td>\n",
       "      <td>0</td>\n",
       "      <td>1</td>\n",
       "      <td>0</td>\n",
       "      <td>0</td>\n",
       "      <td>0</td>\n",
       "      <td>...</td>\n",
       "      <td>1</td>\n",
       "      <td>1</td>\n",
       "      <td>0</td>\n",
       "      <td>0</td>\n",
       "      <td>0</td>\n",
       "      <td>0</td>\n",
       "      <td>0</td>\n",
       "      <td>0</td>\n",
       "      <td>1</td>\n",
       "      <td>0</td>\n",
       "      <td>1</td>\n",
       "      <td>0</td>\n",
       "    </tr>\n",
       "    <tr>\n",
       "      <th>997</th>\n",
       "      <td>0</td>\n",
       "      <td>0</td>\n",
       "      <td>0</td>\n",
       "      <td>1</td>\n",
       "      <td>0</td>\n",
       "      <td>1</td>\n",
       "      <td>0</td>\n",
       "      <td>0</td>\n",
       "      <td>0</td>\n",
       "      <td>0</td>\n",
       "      <td>0</td>\n",
       "      <td>1</td>\n",
       "      <td>...</td>\n",
       "      <td>1</td>\n",
       "      <td>1</td>\n",
       "      <td>0</td>\n",
       "      <td>0</td>\n",
       "      <td>0</td>\n",
       "      <td>0</td>\n",
       "      <td>0</td>\n",
       "      <td>1</td>\n",
       "      <td>0</td>\n",
       "      <td>0</td>\n",
       "      <td>0</td>\n",
       "      <td>0</td>\n",
       "    </tr>\n",
       "    <tr>\n",
       "      <th>998</th>\n",
       "      <td>1</td>\n",
       "      <td>0</td>\n",
       "      <td>0</td>\n",
       "      <td>0</td>\n",
       "      <td>0</td>\n",
       "      <td>1</td>\n",
       "      <td>0</td>\n",
       "      <td>0</td>\n",
       "      <td>0</td>\n",
       "      <td>0</td>\n",
       "      <td>0</td>\n",
       "      <td>1</td>\n",
       "      <td>...</td>\n",
       "      <td>1</td>\n",
       "      <td>0</td>\n",
       "      <td>1</td>\n",
       "      <td>0</td>\n",
       "      <td>0</td>\n",
       "      <td>0</td>\n",
       "      <td>0</td>\n",
       "      <td>1</td>\n",
       "      <td>0</td>\n",
       "      <td>0</td>\n",
       "      <td>1</td>\n",
       "      <td>0</td>\n",
       "    </tr>\n",
       "    <tr>\n",
       "      <th>999</th>\n",
       "      <td>0</td>\n",
       "      <td>1</td>\n",
       "      <td>0</td>\n",
       "      <td>0</td>\n",
       "      <td>0</td>\n",
       "      <td>0</td>\n",
       "      <td>0</td>\n",
       "      <td>1</td>\n",
       "      <td>1</td>\n",
       "      <td>0</td>\n",
       "      <td>0</td>\n",
       "      <td>0</td>\n",
       "      <td>...</td>\n",
       "      <td>1</td>\n",
       "      <td>1</td>\n",
       "      <td>0</td>\n",
       "      <td>0</td>\n",
       "      <td>0</td>\n",
       "      <td>0</td>\n",
       "      <td>0</td>\n",
       "      <td>1</td>\n",
       "      <td>0</td>\n",
       "      <td>0</td>\n",
       "      <td>0</td>\n",
       "      <td>0</td>\n",
       "    </tr>\n",
       "  </tbody>\n",
       "</table>\n",
       "<p>1000 rows × 52 columns</p>\n",
       "</div>"
      ],
      "text/plain": [
       "     Default_1  checkingstatus1_A12  checkingstatus1_A13  checkingstatus1_A14  \\\n",
       "0            0                    0                    0                    0   \n",
       "1            1                    1                    0                    0   \n",
       "2            0                    0                    0                    1   \n",
       "3            0                    0                    0                    0   \n",
       "4            1                    0                    0                    0   \n",
       "..         ...                  ...                  ...                  ...   \n",
       "995          0                    0                    0                    1   \n",
       "996          0                    0                    0                    0   \n",
       "997          0                    0                    0                    1   \n",
       "998          1                    0                    0                    0   \n",
       "999          0                    1                    0                    0   \n",
       "\n",
       "     history_A31  history_A32  history_A33  history_A34  purpose_A41  \\\n",
       "0              0            0            0            1            0   \n",
       "1              0            1            0            0            0   \n",
       "2              0            0            0            1            0   \n",
       "3              0            1            0            0            0   \n",
       "4              0            0            1            0            0   \n",
       "..           ...          ...          ...          ...          ...   \n",
       "995            0            1            0            0            0   \n",
       "996            0            1            0            0            1   \n",
       "997            0            1            0            0            0   \n",
       "998            0            1            0            0            0   \n",
       "999            0            0            0            1            1   \n",
       "\n",
       "     purpose_A410  purpose_A42  purpose_A43  ...  otherplans_A143  \\\n",
       "0               0            0            1  ...                1   \n",
       "1               0            0            1  ...                1   \n",
       "2               0            0            0  ...                1   \n",
       "3               0            1            0  ...                1   \n",
       "4               0            0            0  ...                1   \n",
       "..            ...          ...          ...  ...              ...   \n",
       "995             0            1            0  ...                1   \n",
       "996             0            0            0  ...                1   \n",
       "997             0            0            1  ...                1   \n",
       "998             0            0            1  ...                1   \n",
       "999             0            0            0  ...                1   \n",
       "\n",
       "     housing_A152  housing_A153  cards_2  cards_3  cards_4  job_A172  \\\n",
       "0               1             0        1        0        0         0   \n",
       "1               1             0        0        0        0         0   \n",
       "2               1             0        0        0        0         1   \n",
       "3               0             1        0        0        0         0   \n",
       "4               0             1        1        0        0         0   \n",
       "..            ...           ...      ...      ...      ...       ...   \n",
       "995             1             0        0        0        0         1   \n",
       "996             1             0        0        0        0         0   \n",
       "997             1             0        0        0        0         0   \n",
       "998             0             1        0        0        0         0   \n",
       "999             1             0        0        0        0         0   \n",
       "\n",
       "     job_A173  job_A174  liable_2  tele_A192  foreign_A202  \n",
       "0           1         0         0          1             0  \n",
       "1           1         0         0          0             0  \n",
       "2           0         0         1          0             0  \n",
       "3           1         0         1          0             0  \n",
       "4           1         0         1          0             0  \n",
       "..        ...       ...       ...        ...           ...  \n",
       "995         0         0         0          0             0  \n",
       "996         0         1         0          1             0  \n",
       "997         1         0         0          0             0  \n",
       "998         1         0         0          1             0  \n",
       "999         1         0         0          0             0  \n",
       "\n",
       "[1000 rows x 52 columns]"
      ]
     },
     "execution_count": 80,
     "metadata": {},
     "output_type": "execute_result"
    }
   ],
   "source": [
    "pd.get_dummies(df_norm.drop(df_norm.columns[[0,1,2]], axis=1), drop_first = True) # drop_first=True for n-1 encoding\n",
    "\n",
    "\n",
    "# # dummy_df = pd.get_dummies(df, prefix={'color':'color', \n",
    "#                                       'cut':'cut',\n",
    "#                                       'clarity':'clarity'},\n",
    "#                           drop_first=True)"
   ]
  },
  {
   "cell_type": "code",
   "execution_count": 81,
   "id": "9542fad5",
   "metadata": {},
   "outputs": [
    {
     "name": "stdout",
     "output_type": "stream",
     "text": [
      "<class 'pandas.core.frame.DataFrame'>\n",
      "RangeIndex: 1000 entries, 0 to 999\n",
      "Data columns (total 55 columns):\n",
      " #   Column               Non-Null Count  Dtype  \n",
      "---  ------               --------------  -----  \n",
      " 0   duration             1000 non-null   float64\n",
      " 1   amount               1000 non-null   float64\n",
      " 2   age                  1000 non-null   float64\n",
      " 3   Default_1            1000 non-null   uint8  \n",
      " 4   checkingstatus1_A12  1000 non-null   uint8  \n",
      " 5   checkingstatus1_A13  1000 non-null   uint8  \n",
      " 6   checkingstatus1_A14  1000 non-null   uint8  \n",
      " 7   history_A31          1000 non-null   uint8  \n",
      " 8   history_A32          1000 non-null   uint8  \n",
      " 9   history_A33          1000 non-null   uint8  \n",
      " 10  history_A34          1000 non-null   uint8  \n",
      " 11  purpose_A41          1000 non-null   uint8  \n",
      " 12  purpose_A410         1000 non-null   uint8  \n",
      " 13  purpose_A42          1000 non-null   uint8  \n",
      " 14  purpose_A43          1000 non-null   uint8  \n",
      " 15  purpose_A44          1000 non-null   uint8  \n",
      " 16  purpose_A45          1000 non-null   uint8  \n",
      " 17  purpose_A46          1000 non-null   uint8  \n",
      " 18  purpose_A48          1000 non-null   uint8  \n",
      " 19  purpose_A49          1000 non-null   uint8  \n",
      " 20  savings_A62          1000 non-null   uint8  \n",
      " 21  savings_A63          1000 non-null   uint8  \n",
      " 22  savings_A64          1000 non-null   uint8  \n",
      " 23  savings_A65          1000 non-null   uint8  \n",
      " 24  employ_A72           1000 non-null   uint8  \n",
      " 25  employ_A73           1000 non-null   uint8  \n",
      " 26  employ_A74           1000 non-null   uint8  \n",
      " 27  employ_A75           1000 non-null   uint8  \n",
      " 28  installment_2        1000 non-null   uint8  \n",
      " 29  installment_3        1000 non-null   uint8  \n",
      " 30  installment_4        1000 non-null   uint8  \n",
      " 31  status_A92           1000 non-null   uint8  \n",
      " 32  status_A93           1000 non-null   uint8  \n",
      " 33  status_A94           1000 non-null   uint8  \n",
      " 34  others_A102          1000 non-null   uint8  \n",
      " 35  others_A103          1000 non-null   uint8  \n",
      " 36  residence_2          1000 non-null   uint8  \n",
      " 37  residence_3          1000 non-null   uint8  \n",
      " 38  residence_4          1000 non-null   uint8  \n",
      " 39  property_A122        1000 non-null   uint8  \n",
      " 40  property_A123        1000 non-null   uint8  \n",
      " 41  property_A124        1000 non-null   uint8  \n",
      " 42  otherplans_A142      1000 non-null   uint8  \n",
      " 43  otherplans_A143      1000 non-null   uint8  \n",
      " 44  housing_A152         1000 non-null   uint8  \n",
      " 45  housing_A153         1000 non-null   uint8  \n",
      " 46  cards_2              1000 non-null   uint8  \n",
      " 47  cards_3              1000 non-null   uint8  \n",
      " 48  cards_4              1000 non-null   uint8  \n",
      " 49  job_A172             1000 non-null   uint8  \n",
      " 50  job_A173             1000 non-null   uint8  \n",
      " 51  job_A174             1000 non-null   uint8  \n",
      " 52  liable_2             1000 non-null   uint8  \n",
      " 53  tele_A192            1000 non-null   uint8  \n",
      " 54  foreign_A202         1000 non-null   uint8  \n",
      "dtypes: float64(3), uint8(52)\n",
      "memory usage: 74.3 KB\n"
     ]
    }
   ],
   "source": [
    "df_norm = pd.concat([df_num_norm_dumm, pd.get_dummies(df_norm.drop(df_norm.columns[[0,1,2]], axis=1), drop_first = True)] \n",
    "                    , axis = 1)\n",
    "df_norm.info()"
   ]
  },
  {
   "cell_type": "code",
   "execution_count": 82,
   "id": "98b82913",
   "metadata": {},
   "outputs": [],
   "source": [
    "df_norm.rename(columns = {'Default_1':'Default'}, inplace = True)"
   ]
  },
  {
   "cell_type": "code",
   "execution_count": null,
   "id": "912cbab4",
   "metadata": {},
   "outputs": [],
   "source": [
    "df_norm.head()"
   ]
  },
  {
   "cell_type": "markdown",
   "id": "983086bb",
   "metadata": {},
   "source": []
  },
  {
   "cell_type": "markdown",
   "id": "a29f1d60",
   "metadata": {},
   "source": [
    "## Logistics Regression"
   ]
  },
  {
   "cell_type": "markdown",
   "id": "b7b9b5b4",
   "metadata": {},
   "source": [
    "## Using Sckit Learn\n",
    "### Model 1"
   ]
  },
  {
   "cell_type": "code",
   "execution_count": 83,
   "id": "b3334c56",
   "metadata": {},
   "outputs": [],
   "source": [
    "y = df_norm.Default\n",
    "x = df_norm.drop(['Default'], axis =1)"
   ]
  },
  {
   "cell_type": "code",
   "execution_count": 84,
   "id": "6c265b17",
   "metadata": {},
   "outputs": [
    {
     "name": "stdout",
     "output_type": "stream",
     "text": [
      "(1000, 54)\n",
      "(1000,)\n"
     ]
    }
   ],
   "source": [
    "print(x.shape)\n",
    "print(y.shape)"
   ]
  },
  {
   "cell_type": "code",
   "execution_count": 85,
   "id": "9b9a8a2b",
   "metadata": {},
   "outputs": [],
   "source": [
    "# split X and y into training and testing sets\n",
    "from sklearn.model_selection import train_test_split\n",
    "\n",
    "x_train, x_test, y_train, y_test = train_test_split(x, y, test_size=0.3, random_state=16)"
   ]
  },
  {
   "cell_type": "code",
   "execution_count": 86,
   "id": "8fdb1217",
   "metadata": {},
   "outputs": [
    {
     "name": "stdout",
     "output_type": "stream",
     "text": [
      "(700, 54)\n",
      "(700,)\n",
      "(300, 54)\n",
      "(300,)\n"
     ]
    }
   ],
   "source": [
    "print(x_train.shape)\n",
    "print(y_train.shape)\n",
    "print(x_test.shape)\n",
    "print(y_test.shape)"
   ]
  },
  {
   "cell_type": "code",
   "execution_count": 87,
   "id": "48ca87de",
   "metadata": {},
   "outputs": [],
   "source": [
    "# import the class\n",
    "from sklearn.linear_model import LogisticRegression\n",
    "\n",
    "# instantiate the model (using the default parameters)\n",
    "logreg = LogisticRegression(random_state=16)\n",
    "\n",
    "# fit the model with data\n",
    "logreg.fit(x_train, y_train)\n",
    "\n",
    "y_pred = logreg.predict(x_test)"
   ]
  },
  {
   "cell_type": "code",
   "execution_count": 88,
   "id": "2d83523b",
   "metadata": {},
   "outputs": [
    {
     "data": {
      "text/plain": [
       "array([[186,  22],\n",
       "       [ 46,  46]], dtype=int64)"
      ]
     },
     "execution_count": 88,
     "metadata": {},
     "output_type": "execute_result"
    }
   ],
   "source": [
    "# import the metrics class\n",
    "from sklearn import metrics\n",
    "\n",
    "cnf_matrix = metrics.confusion_matrix(y_test, y_pred)\n",
    "cnf_matrix"
   ]
  },
  {
   "cell_type": "code",
   "execution_count": 90,
   "id": "d21b3576",
   "metadata": {},
   "outputs": [
    {
     "name": "stdout",
     "output_type": "stream",
     "text": [
      "Model accuracy: 0.7733333333333333\n"
     ]
    },
    {
     "data": {
      "image/png": "[encoded data removed]",
      "text/plain": [
       "<Figure size 720x432 with 2 Axes>"
      ]
     },
     "metadata": {
      "needs_background": "light"
     },
     "output_type": "display_data"
    }
   ],
   "source": [
    "from sklearn.metrics import confusion_matrix,accuracy_score\n",
    "cm = confusion_matrix(y_test, y_pred)\n",
    "s = sns.heatmap(cm ,annot=True ,fmt='d')\n",
    "s.set(xlabel='Predicted', ylabel='Actual')\n",
    "print(\"Model accuracy:\",accuracy_score(y_test, y_pred))"
   ]
  },
  {
   "cell_type": "code",
   "execution_count": 91,
   "id": "d4cead43",
   "metadata": {},
   "outputs": [
    {
     "name": "stdout",
     "output_type": "stream",
     "text": [
      "                    precision    recall  f1-score   support\n",
      "\n",
      "not credit default       0.80      0.89      0.85       208\n",
      "    credit default       0.68      0.50      0.58        92\n",
      "\n",
      "          accuracy                           0.77       300\n",
      "         macro avg       0.74      0.70      0.71       300\n",
      "      weighted avg       0.76      0.77      0.76       300\n",
      "\n"
     ]
    }
   ],
   "source": [
    "from sklearn.metrics import classification_report\n",
    "target_names = ['not credit default', 'credit default']\n",
    "print(classification_report(y_test, y_pred, target_names=target_names))"
   ]
  },
  {
   "cell_type": "code",
   "execution_count": 96,
   "id": "517b9d2d",
   "metadata": {},
   "outputs": [
    {
     "data": {
      "image/png": "[encoded data removed]",
      "text/plain": [
       "<Figure size 432x288 with 1 Axes>"
      ]
     },
     "metadata": {
      "needs_background": "light"
     },
     "output_type": "display_data"
    }
   ],
   "source": [
    "# y_pred_proba = logreg.predict_proba(x_test)[::,1]\n",
    "# fpr, tpr, _ = metrics.roc_curve(y_test,  y_pred_proba)\n",
    "# auc = metrics.roc_auc_score(y_test, y_pred_proba)\n",
    "# plt.plot(fpr,tpr,label=\"data 1, auc=\"+str(auc))\n",
    "# plt.legend(loc=4)\n",
    "# plt.show()\n",
    "\n",
    "y_pred_logreg_proba = logreg.predict_proba(x_test)\n",
    "from sklearn.metrics import roc_curve\n",
    "fpr, tpr, thresholds = roc_curve(y_test, y_pred_logreg_proba[:,1])\n",
    "plt.figure(figsize=(6,4))\n",
    "plt.plot(fpr,tpr,'-g',linewidth=1)\n",
    "plt.plot([0,1], [0,1], 'k--' )\n",
    "plt.title('ROC curve for Logistic Regression Model')\n",
    "plt.xlabel(\"False Positive Rate\")\n",
    "plt.ylabel('True Positive Rate')\n",
    "plt.show()\n"
   ]
  },
  {
   "cell_type": "markdown",
   "id": "dddf65a4",
   "metadata": {},
   "source": [
    "## Model 2\n",
    "\n",
    "### Logistics Regression"
   ]
  },
  {
   "cell_type": "code",
   "execution_count": 97,
   "id": "8acc4eb7",
   "metadata": {},
   "outputs": [],
   "source": [
    "param_grid_lr = {\n",
    "    'max_iter': [20, 50, 100, 200, 500, 1000],                      \n",
    "    'solver': ['newton-cg', 'lbfgs', 'liblinear', 'sag', 'saga'],   \n",
    "    'class_weight': ['balanced']                                    \n",
    "}"
   ]
  },
  {
   "cell_type": "code",
   "execution_count": 99,
   "id": "34692ea5",
   "metadata": {},
   "outputs": [
    {
     "name": "stdout",
     "output_type": "stream",
     "text": [
      "Fitting 10 folds for each of 30 candidates, totalling 300 fits\n",
      "LogisticRegression(class_weight='balanced', max_iter=20, random_state=1234,\n",
      "                   solver='newton-cg')\n"
     ]
    },
    {
     "data": {
      "text/plain": [
       "LogisticRegression(class_weight='balanced', max_iter=20, multi_class='warn',\n",
       "                   random_state=1234, solver='liblinear')"
      ]
     },
     "execution_count": 99,
     "metadata": {},
     "output_type": "execute_result"
    }
   ],
   "source": [
    "from sklearn.linear_model import LogisticRegression\n",
    "from sklearn.model_selection import GridSearchCV\n",
    "\n",
    "logModel_grid = GridSearchCV(estimator=LogisticRegression(random_state=1234), param_grid=param_grid_lr, \n",
    "                             verbose=1, cv=10, n_jobs=-1)\n",
    "\n",
    "logModel_grid.fit(x_train, y_train)\n",
    "print(logModel_grid.best_estimator_)\n",
    "\n",
    "##Fitting 10 folds for each of 30 candidates, totalling 300 fits\n",
    "LogisticRegression(C=1.0, class_weight='balanced', dual=False, fit_intercept=True, intercept_scaling=1, l1_ratio=None, \n",
    "                   max_iter=20, multi_class='warn', n_jobs=None, penalty='l2', random_state=1234, solver='liblinear', \n",
    "                   tol=0.0001, verbose=0, warm_start=False)"
   ]
  },
  {
   "cell_type": "code",
   "execution_count": 100,
   "id": "95a61f5c",
   "metadata": {},
   "outputs": [
    {
     "name": "stdout",
     "output_type": "stream",
     "text": [
      "[1 1 0 1 1 1 0 0 0 0 1 0 0 0 0 0 0 0 0 1 0 0 1 0 1 0 0 0 0 1 1 1 0 0 0 1 0\n",
      " 1 0 0 1 0 0 0 1 1 0 1 0 1 1 1 0 0 1 0 0 1 0 0 0 0 1 0 0 1 0 0 1 1 1 1 1 1\n",
      " 1 0 0 1 0 0 1 1 1 0 0 0 0 1 1 1 1 0 1 0 1 1 0 0 1 1 1 0 1 0 1 1 0 0 0 1 1\n",
      " 1 0 0 1 1 0 1 1 0 0 0 0 1 1 0 0 0 1 1 1 0 0 1 1 0 1 0 0 0 1 1 0 0 1 0 0 0\n",
      " 0 0 0 1 0 0 1 0 1 0 0 0 0 1 0 0 1 1 0 1 1 0 0 0 1 0 0 1 0 1 0 1 0 0 1 0 0\n",
      " 1 1 0 1 0 0 0 0 0 1 1 0 0 0 0 1 1 0 0 1 1 0 0 0 0 0 1 1 1 0 0 0 0 0 0 1 0\n",
      " 0 0 1 0 0 0 0 0 1 1 0 0 1 1 1 0 0 1 0 0 0 0 1 0 1 0 1 0 1 0 1 1 0 0 1 0 1\n",
      " 1 1 0 1 0 1 1 1 1 0 0 0 1 0 0 1 1 0 1 1 0 0 0 0 0 0 1 1 1 0 1 1 1 0 0 0 0\n",
      " 1 0 0 0]\n"
     ]
    }
   ],
   "source": [
    "y_pred = logModel_grid.predict(x_test)\n",
    "print(y_pred)"
   ]
  },
  {
   "cell_type": "code",
   "execution_count": 102,
   "id": "43227eb9",
   "metadata": {},
   "outputs": [
    {
     "name": "stdout",
     "output_type": "stream",
     "text": [
      "Model accuracy: 0.7366666666666667\n"
     ]
    },
    {
     "data": {
      "image/png": "[encoded data removed]",
      "text/plain": [
       "<Figure size 720x432 with 2 Axes>"
      ]
     },
     "metadata": {
      "needs_background": "light"
     },
     "output_type": "display_data"
    }
   ],
   "source": [
    "from sklearn.metrics import confusion_matrix,accuracy_score\n",
    "cm = confusion_matrix(y_test, y_pred)\n",
    "s = sns.heatmap(cm ,annot=True ,fmt='d')\n",
    "s.set(xlabel='Predicted', ylabel='Actual')\n",
    "print(\"Model accuracy:\",accuracy_score(y_test, y_pred))"
   ]
  },
  {
   "cell_type": "markdown",
   "id": "2322c782",
   "metadata": {},
   "source": [
    "## Decision Tree"
   ]
  },
  {
   "cell_type": "code",
   "execution_count": 103,
   "id": "185bc986",
   "metadata": {},
   "outputs": [],
   "source": [
    "from sklearn.tree import DecisionTreeClassifier\n",
    "# from sklearn.linear_model import LogisticRegression\n",
    "from sklearn.metrics import confusion_matrix, ConfusionMatrixDisplay"
   ]
  },
  {
   "cell_type": "code",
   "execution_count": 105,
   "id": "90a5de85",
   "metadata": {},
   "outputs": [
    {
     "data": {
      "text/plain": [
       "DecisionTreeClassifier(max_depth=8, random_state=0)"
      ]
     },
     "execution_count": 105,
     "metadata": {},
     "output_type": "execute_result"
    }
   ],
   "source": [
    "classifier_dt = DecisionTreeClassifier(max_depth=8,random_state=0)\n",
    "classifier_dt.fit(x_train, y_train)"
   ]
  },
  {
   "cell_type": "code",
   "execution_count": 107,
   "id": "7e248cb6",
   "metadata": {
    "collapsed": true
   },
   "outputs": [
    {
     "data": {
      "text/plain": [
       "array([[0.54054054, 0.45945946],\n",
       "       [0.61111111, 0.38888889],\n",
       "       [0.61111111, 0.38888889],\n",
       "       [0.61111111, 0.38888889],\n",
       "       [1.        , 0.        ],\n",
       "       [0.54054054, 0.45945946],\n",
       "       [1.        , 0.        ],\n",
       "       [1.        , 0.        ],\n",
       "       [0.61111111, 0.38888889],\n",
       "       [1.        , 0.        ],\n",
       "       [0.        , 1.        ],\n",
       "       [0.        , 1.        ],\n",
       "       [1.        , 0.        ],\n",
       "       [0.        , 1.        ],\n",
       "       [0.61111111, 0.38888889],\n",
       "       [1.        , 0.        ],\n",
       "       [1.        , 0.        ],\n",
       "       [0.61111111, 0.38888889],\n",
       "       [0.9047619 , 0.0952381 ],\n",
       "       [0.61111111, 0.38888889],\n",
       "       [1.        , 0.        ],\n",
       "       [1.        , 0.        ],\n",
       "       [0.10526316, 0.89473684],\n",
       "       [1.        , 0.        ],\n",
       "       [1.        , 0.        ],\n",
       "       [1.        , 0.        ],\n",
       "       [1.        , 0.        ],\n",
       "       [1.        , 0.        ],\n",
       "       [1.        , 0.        ],\n",
       "       [0.61111111, 0.38888889],\n",
       "       [0.61111111, 0.38888889],\n",
       "       [0.88888889, 0.11111111],\n",
       "       [0.88461538, 0.11538462],\n",
       "       [0.9047619 , 0.0952381 ],\n",
       "       [1.        , 0.        ],\n",
       "       [0.        , 1.        ],\n",
       "       [1.        , 0.        ],\n",
       "       [0.88888889, 0.11111111],\n",
       "       [0.61111111, 0.38888889],\n",
       "       [1.        , 0.        ],\n",
       "       [0.54054054, 0.45945946],\n",
       "       [1.        , 0.        ],\n",
       "       [1.        , 0.        ],\n",
       "       [1.        , 0.        ],\n",
       "       [1.        , 0.        ],\n",
       "       [0.61111111, 0.38888889],\n",
       "       [0.54054054, 0.45945946],\n",
       "       [0.        , 1.        ],\n",
       "       [0.88461538, 0.11538462],\n",
       "       [0.61111111, 0.38888889],\n",
       "       [0.16666667, 0.83333333],\n",
       "       [0.61111111, 0.38888889],\n",
       "       [1.        , 0.        ],\n",
       "       [0.95833333, 0.04166667],\n",
       "       [1.        , 0.        ],\n",
       "       [0.88461538, 0.11538462],\n",
       "       [1.        , 0.        ],\n",
       "       [0.61111111, 0.38888889],\n",
       "       [1.        , 0.        ],\n",
       "       [0.54054054, 0.45945946],\n",
       "       [1.        , 0.        ],\n",
       "       [1.        , 0.        ],\n",
       "       [0.        , 1.        ],\n",
       "       [1.        , 0.        ],\n",
       "       [0.54054054, 0.45945946],\n",
       "       [0.        , 1.        ],\n",
       "       [0.88461538, 0.11538462],\n",
       "       [1.        , 0.        ],\n",
       "       [0.61111111, 0.38888889],\n",
       "       [1.        , 0.        ],\n",
       "       [0.88888889, 0.11111111],\n",
       "       [0.61111111, 0.38888889],\n",
       "       [0.        , 1.        ],\n",
       "       [1.        , 0.        ],\n",
       "       [0.54054054, 0.45945946],\n",
       "       [0.88461538, 0.11538462],\n",
       "       [0.        , 1.        ],\n",
       "       [0.        , 1.        ],\n",
       "       [0.61111111, 0.38888889],\n",
       "       [1.        , 0.        ],\n",
       "       [0.10526316, 0.89473684],\n",
       "       [0.        , 1.        ],\n",
       "       [0.88461538, 0.11538462],\n",
       "       [1.        , 0.        ],\n",
       "       [1.        , 0.        ],\n",
       "       [1.        , 0.        ],\n",
       "       [1.        , 0.        ],\n",
       "       [0.61111111, 0.38888889],\n",
       "       [0.61111111, 0.38888889],\n",
       "       [1.        , 0.        ],\n",
       "       [1.        , 0.        ],\n",
       "       [1.        , 0.        ],\n",
       "       [0.88888889, 0.11111111],\n",
       "       [1.        , 0.        ],\n",
       "       [0.61111111, 0.38888889],\n",
       "       [1.        , 0.        ],\n",
       "       [1.        , 0.        ],\n",
       "       [0.9       , 0.1       ],\n",
       "       [0.16666667, 0.83333333],\n",
       "       [1.        , 0.        ],\n",
       "       [0.61111111, 0.38888889],\n",
       "       [0.        , 1.        ],\n",
       "       [0.61111111, 0.38888889],\n",
       "       [1.        , 0.        ],\n",
       "       [0.61111111, 0.38888889],\n",
       "       [0.61111111, 0.38888889],\n",
       "       [0.61111111, 0.38888889],\n",
       "       [1.        , 0.        ],\n",
       "       [1.        , 0.        ],\n",
       "       [0.95833333, 0.04166667],\n",
       "       [0.61111111, 0.38888889],\n",
       "       [0.54054054, 0.45945946],\n",
       "       [1.        , 0.        ],\n",
       "       [1.        , 0.        ],\n",
       "       [1.        , 0.        ],\n",
       "       [0.95833333, 0.04166667],\n",
       "       [1.        , 0.        ],\n",
       "       [0.        , 1.        ],\n",
       "       [0.88888889, 0.11111111],\n",
       "       [0.88461538, 0.11538462],\n",
       "       [1.        , 0.        ],\n",
       "       [1.        , 0.        ],\n",
       "       [1.        , 0.        ],\n",
       "       [0.95833333, 0.04166667],\n",
       "       [1.        , 0.        ],\n",
       "       [1.        , 0.        ],\n",
       "       [1.        , 0.        ],\n",
       "       [0.        , 1.        ],\n",
       "       [1.        , 0.        ],\n",
       "       [0.54054054, 0.45945946],\n",
       "       [0.54054054, 0.45945946],\n",
       "       [0.88461538, 0.11538462],\n",
       "       [0.61111111, 0.38888889],\n",
       "       [0.88888889, 0.11111111],\n",
       "       [0.61111111, 0.38888889],\n",
       "       [1.        , 0.        ],\n",
       "       [0.88888889, 0.11111111],\n",
       "       [0.9047619 , 0.0952381 ],\n",
       "       [1.        , 0.        ],\n",
       "       [1.        , 0.        ],\n",
       "       [0.61111111, 0.38888889],\n",
       "       [0.        , 1.        ],\n",
       "       [1.        , 0.        ],\n",
       "       [0.61111111, 0.38888889],\n",
       "       [0.        , 1.        ],\n",
       "       [1.        , 0.        ],\n",
       "       [0.61111111, 0.38888889],\n",
       "       [0.9047619 , 0.0952381 ],\n",
       "       [1.        , 0.        ],\n",
       "       [0.54054054, 0.45945946],\n",
       "       [1.        , 0.        ],\n",
       "       [0.61111111, 0.38888889],\n",
       "       [0.        , 1.        ],\n",
       "       [1.        , 0.        ],\n",
       "       [0.        , 1.        ],\n",
       "       [1.        , 0.        ],\n",
       "       [1.        , 0.        ],\n",
       "       [0.54054054, 0.45945946],\n",
       "       [0.95833333, 0.04166667],\n",
       "       [0.61111111, 0.38888889],\n",
       "       [0.10526316, 0.89473684],\n",
       "       [0.61111111, 0.38888889],\n",
       "       [1.        , 0.        ],\n",
       "       [1.        , 0.        ],\n",
       "       [0.95833333, 0.04166667],\n",
       "       [1.        , 0.        ],\n",
       "       [0.61111111, 0.38888889],\n",
       "       [0.        , 1.        ],\n",
       "       [0.61111111, 0.38888889],\n",
       "       [0.61111111, 0.38888889],\n",
       "       [0.10526316, 0.89473684],\n",
       "       [1.        , 0.        ],\n",
       "       [0.61111111, 0.38888889],\n",
       "       [1.        , 0.        ],\n",
       "       [1.        , 0.        ],\n",
       "       [0.61111111, 0.38888889],\n",
       "       [1.        , 0.        ],\n",
       "       [0.61111111, 0.38888889],\n",
       "       [1.        , 0.        ],\n",
       "       [1.        , 0.        ],\n",
       "       [1.        , 0.        ],\n",
       "       [0.61111111, 0.38888889],\n",
       "       [0.61111111, 0.38888889],\n",
       "       [1.        , 0.        ],\n",
       "       [1.        , 0.        ],\n",
       "       [0.61111111, 0.38888889],\n",
       "       [0.        , 1.        ],\n",
       "       [1.        , 0.        ],\n",
       "       [0.54054054, 0.45945946],\n",
       "       [0.54054054, 0.45945946],\n",
       "       [1.        , 0.        ],\n",
       "       [0.88461538, 0.11538462],\n",
       "       [0.77272727, 0.22727273],\n",
       "       [1.        , 0.        ],\n",
       "       [0.61111111, 0.38888889],\n",
       "       [0.61111111, 0.38888889],\n",
       "       [1.        , 0.        ],\n",
       "       [0.61111111, 0.38888889],\n",
       "       [0.61111111, 0.38888889],\n",
       "       [1.        , 0.        ],\n",
       "       [0.88888889, 0.11111111],\n",
       "       [0.54054054, 0.45945946],\n",
       "       [1.        , 0.        ],\n",
       "       [0.        , 1.        ],\n",
       "       [0.61111111, 0.38888889],\n",
       "       [0.        , 1.        ],\n",
       "       [0.        , 1.        ],\n",
       "       [0.        , 1.        ],\n",
       "       [1.        , 0.        ],\n",
       "       [1.        , 0.        ],\n",
       "       [1.        , 0.        ],\n",
       "       [0.        , 1.        ],\n",
       "       [0.9047619 , 0.0952381 ],\n",
       "       [0.9047619 , 0.0952381 ],\n",
       "       [0.        , 1.        ],\n",
       "       [1.        , 0.        ],\n",
       "       [0.95833333, 0.04166667],\n",
       "       [1.        , 0.        ],\n",
       "       [1.        , 0.        ],\n",
       "       [1.        , 0.        ],\n",
       "       [0.        , 1.        ],\n",
       "       [0.        , 1.        ],\n",
       "       [1.        , 0.        ],\n",
       "       [1.        , 0.        ],\n",
       "       [0.61111111, 0.38888889],\n",
       "       [1.        , 0.        ],\n",
       "       [1.        , 0.        ],\n",
       "       [1.        , 0.        ],\n",
       "       [0.        , 1.        ],\n",
       "       [1.        , 0.        ],\n",
       "       [0.54054054, 0.45945946],\n",
       "       [0.77272727, 0.22727273],\n",
       "       [1.        , 0.        ],\n",
       "       [0.        , 1.        ],\n",
       "       [1.        , 0.        ],\n",
       "       [0.61111111, 0.38888889],\n",
       "       [0.54054054, 0.45945946],\n",
       "       [0.88461538, 0.11538462],\n",
       "       [1.        , 0.        ],\n",
       "       [0.        , 1.        ],\n",
       "       [1.        , 0.        ],\n",
       "       [1.        , 0.        ],\n",
       "       [0.54054054, 0.45945946],\n",
       "       [1.        , 0.        ],\n",
       "       [0.54054054, 0.45945946],\n",
       "       [1.        , 0.        ],\n",
       "       [0.        , 1.        ],\n",
       "       [1.        , 0.        ],\n",
       "       [1.        , 0.        ],\n",
       "       [0.88461538, 0.11538462],\n",
       "       [0.9047619 , 0.0952381 ],\n",
       "       [1.        , 0.        ],\n",
       "       [0.        , 1.        ],\n",
       "       [0.61111111, 0.38888889],\n",
       "       [1.        , 0.        ],\n",
       "       [1.        , 0.        ],\n",
       "       [0.        , 1.        ],\n",
       "       [0.        , 1.        ],\n",
       "       [0.95833333, 0.04166667],\n",
       "       [1.        , 0.        ],\n",
       "       [0.54054054, 0.45945946],\n",
       "       [0.54054054, 0.45945946],\n",
       "       [0.61111111, 0.38888889],\n",
       "       [1.        , 0.        ],\n",
       "       [1.        , 0.        ],\n",
       "       [0.61111111, 0.38888889],\n",
       "       [0.61111111, 0.38888889],\n",
       "       [1.        , 0.        ],\n",
       "       [0.54054054, 0.45945946],\n",
       "       [0.61111111, 0.38888889],\n",
       "       [1.        , 0.        ],\n",
       "       [1.        , 0.        ],\n",
       "       [0.61111111, 0.38888889],\n",
       "       [0.61111111, 0.38888889],\n",
       "       [0.77272727, 0.22727273],\n",
       "       [0.95833333, 0.04166667],\n",
       "       [1.        , 0.        ],\n",
       "       [0.        , 1.        ],\n",
       "       [0.10526316, 0.89473684],\n",
       "       [0.61111111, 0.38888889],\n",
       "       [0.9047619 , 0.0952381 ],\n",
       "       [0.61111111, 0.38888889],\n",
       "       [1.        , 0.        ],\n",
       "       [0.61111111, 0.38888889],\n",
       "       [1.        , 0.        ],\n",
       "       [0.54054054, 0.45945946],\n",
       "       [0.88888889, 0.11111111],\n",
       "       [0.61111111, 0.38888889],\n",
       "       [0.77272727, 0.22727273],\n",
       "       [0.10526316, 0.89473684],\n",
       "       [0.54054054, 0.45945946],\n",
       "       [1.        , 0.        ],\n",
       "       [1.        , 0.        ],\n",
       "       [1.        , 0.        ],\n",
       "       [0.        , 1.        ],\n",
       "       [0.        , 1.        ],\n",
       "       [1.        , 0.        ],\n",
       "       [0.        , 1.        ],\n",
       "       [1.        , 0.        ],\n",
       "       [1.        , 0.        ]])"
      ]
     },
     "execution_count": 107,
     "metadata": {},
     "output_type": "execute_result"
    }
   ],
   "source": [
    "# Get probabilities of records belonging to each class\n",
    "y_pred_logreg_proba_dt = classifier_dt.predict_proba(x_test)\n",
    "y_pred_logreg_proba_dt"
   ]
  },
  {
   "cell_type": "code",
   "execution_count": 109,
   "id": "3a79670d",
   "metadata": {},
   "outputs": [
    {
     "data": {
      "text/plain": [
       "array([0, 0, 0, 0, 0, 0, 0, 0, 0, 0, 1, 1, 0, 1, 0, 0, 0, 0, 0, 0, 0, 0,\n",
       "       1, 0, 0, 0, 0, 0, 0, 0, 0, 0, 0, 0, 0, 1, 0, 0, 0, 0, 0, 0, 0, 0,\n",
       "       0, 0, 0, 1, 0, 0, 1, 0, 0, 0, 0, 0, 0, 0, 0, 0, 0, 0, 1, 0, 0, 1,\n",
       "       0, 0, 0, 0, 0, 0, 1, 0, 0, 0, 1, 1, 0, 0, 1, 1, 0, 0, 0, 0, 0, 0,\n",
       "       0, 0, 0, 0, 0, 0, 0, 0, 0, 0, 1, 0, 0, 1, 0, 0, 0, 0, 0, 0, 0, 0,\n",
       "       0, 0, 0, 0, 0, 0, 0, 1, 0, 0, 0, 0, 0, 0, 0, 0, 0, 1, 0, 0, 0, 0,\n",
       "       0, 0, 0, 0, 0, 0, 0, 0, 0, 1, 0, 0, 1, 0, 0, 0, 0, 0, 0, 0, 1, 0,\n",
       "       1, 0, 0, 0, 0, 0, 1, 0, 0, 0, 0, 0, 0, 1, 0, 0, 1, 0, 0, 0, 0, 0,\n",
       "       0, 0, 0, 0, 0, 0, 0, 0, 0, 0, 1, 0, 0, 0, 0, 0, 0, 0, 0, 0, 0, 0,\n",
       "       0, 0, 0, 0, 0, 1, 0, 1, 1, 1, 0, 0, 0, 1, 0, 0, 1, 0, 0, 0, 0, 0,\n",
       "       1, 1, 0, 0, 0, 0, 0, 0, 1, 0, 0, 0, 0, 1, 0, 0, 0, 0, 0, 1, 0, 0,\n",
       "       0, 0, 0, 0, 1, 0, 0, 0, 0, 0, 1, 0, 0, 0, 1, 1, 0, 0, 0, 0, 0, 0,\n",
       "       0, 0, 0, 0, 0, 0, 0, 0, 0, 0, 0, 0, 0, 1, 1, 0, 0, 0, 0, 0, 0, 0,\n",
       "       0, 0, 0, 1, 0, 0, 0, 0, 1, 1, 0, 1, 0, 0], dtype=uint8)"
      ]
     },
     "execution_count": 109,
     "metadata": {},
     "output_type": "execute_result"
    }
   ],
   "source": [
    "# Get values rather than probabilities\n",
    "y_pred_logreg_val_dt = classifier_dt.predict(x_test)\n",
    "y_pred_logreg_val_dt"
   ]
  },
  {
   "cell_type": "code",
   "execution_count": 110,
   "id": "113499c2",
   "metadata": {},
   "outputs": [
    {
     "data": {
      "image/png": "[encoded data removed]",
      "text/plain": [
       "<Figure size 432x288 with 1 Axes>"
      ]
     },
     "metadata": {
      "needs_background": "light"
     },
     "output_type": "display_data"
    }
   ],
   "source": [
    "from sklearn.metrics import roc_curve\n",
    "fpr_dt, tpr_dt, thresholds_dt = roc_curve(y_test, y_pred_logreg_proba_dt[:,1])\n",
    "plt.figure(figsize=(6,4))\n",
    "plt.plot(fpr_dt,tpr_dt,'-g',linewidth=1)\n",
    "plt.plot([0,1], [0,1], 'k--' )\n",
    "plt.title('ROC curve for Decision Tree Model')\n",
    "plt.xlabel(\"False Positive Rate\")\n",
    "plt.ylabel('True Positive Rate')\n",
    "plt.show()"
   ]
  },
  {
   "cell_type": "code",
   "execution_count": 111,
   "id": "a6723502",
   "metadata": {},
   "outputs": [],
   "source": [
    "pred_proba_dt = y_pred_logreg_proba_dt[:,1]"
   ]
  },
  {
   "cell_type": "code",
   "execution_count": 112,
   "id": "cf2ab40d",
   "metadata": {},
   "outputs": [],
   "source": [
    "preds_dt = np.where(pred_proba_dt>0.70, 1, 0)"
   ]
  },
  {
   "cell_type": "code",
   "execution_count": 113,
   "id": "00ef2628",
   "metadata": {},
   "outputs": [
    {
     "name": "stdout",
     "output_type": "stream",
     "text": [
      "Model accuracy: 0.71\n"
     ]
    },
    {
     "data": {
      "image/png": "[encoded data removed]",
      "text/plain": [
       "<Figure size 720x432 with 2 Axes>"
      ]
     },
     "metadata": {
      "needs_background": "light"
     },
     "output_type": "display_data"
    }
   ],
   "source": [
    "cm_dt = confusion_matrix(y_test, preds_dt)\n",
    "ConfusionMatrixDisplay(confusion_matrix=cm_dt).plot()\n",
    "print(\"Model accuracy:\",accuracy_score(y_test, preds_dt))"
   ]
  },
  {
   "cell_type": "markdown",
   "id": "171b87d8",
   "metadata": {},
   "source": [
    "## Random Forest"
   ]
  },
  {
   "cell_type": "code",
   "execution_count": 114,
   "id": "468ca07c",
   "metadata": {},
   "outputs": [],
   "source": [
    "from sklearn.ensemble import RandomForestClassifier"
   ]
  },
  {
   "cell_type": "code",
   "execution_count": 116,
   "id": "ff18dced",
   "metadata": {},
   "outputs": [
    {
     "data": {
      "text/plain": [
       "RandomForestClassifier(max_depth=8, n_estimators=20, random_state=0)"
      ]
     },
     "execution_count": 116,
     "metadata": {},
     "output_type": "execute_result"
    }
   ],
   "source": [
    "classifier_rf = RandomForestClassifier(n_estimators= 20 ,max_depth=8, random_state=0)\n",
    "classifier_rf.fit(x_train, y_train)"
   ]
  },
  {
   "cell_type": "code",
   "execution_count": 118,
   "id": "ceb08708",
   "metadata": {},
   "outputs": [
    {
     "data": {
      "image/png": "[encoded data removed]",
      "text/plain": [
       "<Figure size 432x288 with 1 Axes>"
      ]
     },
     "metadata": {
      "needs_background": "light"
     },
     "output_type": "display_data"
    }
   ],
   "source": [
    "y_pred_logreg_proba_rf = classifier_rf.predict_proba(x_test)\n",
    "from sklearn.metrics import roc_curve\n",
    "fpr_rf, tpr_rf, thresholds_rf = roc_curve(y_test, y_pred_logreg_proba_rf[:,1])\n",
    "plt.figure(figsize=(6,4))\n",
    "plt.plot(fpr_rf,tpr_rf,'-g',linewidth=1)\n",
    "plt.plot([0,1], [0,1], 'k--' )\n",
    "plt.title('ROC curve for Random forest Model')\n",
    "plt.xlabel(\"False Positive Rate\")\n",
    "plt.ylabel('True Positive Rate')\n",
    "plt.show()"
   ]
  },
  {
   "cell_type": "code",
   "execution_count": 119,
   "id": "db0b2f4b",
   "metadata": {},
   "outputs": [],
   "source": [
    "pred_proba_rf = y_pred_logreg_proba_rf[:,1]"
   ]
  },
  {
   "cell_type": "code",
   "execution_count": 120,
   "id": "ff4b3332",
   "metadata": {},
   "outputs": [],
   "source": [
    "preds_rf = np.where(pred_proba_rf>0.70, 1, 0)"
   ]
  },
  {
   "cell_type": "code",
   "execution_count": 121,
   "id": "6a186db4",
   "metadata": {},
   "outputs": [
    {
     "name": "stdout",
     "output_type": "stream",
     "text": [
      "Model accuracy: 0.7\n"
     ]
    },
    {
     "data": {
      "image/png": "[encoded data removed]",
      "text/plain": [
       "<Figure size 720x432 with 2 Axes>"
      ]
     },
     "metadata": {
      "needs_background": "light"
     },
     "output_type": "display_data"
    }
   ],
   "source": [
    "cm_rf = confusion_matrix(y_test, preds_rf)\n",
    "ConfusionMatrixDisplay(confusion_matrix=cm_rf).plot()\n",
    "print(\"Model accuracy:\",accuracy_score(y_test, preds_rf))"
   ]
  },
  {
   "cell_type": "markdown",
   "id": "b3b4583c",
   "metadata": {},
   "source": [
    "- The best model for German Credit, Default prediction is Logistics Regression with accuracy score of 77.33 %.\n",
    "- "
   ]
  },
  {
   "cell_type": "code",
   "execution_count": null,
   "id": "e0773b7b",
   "metadata": {},
   "outputs": [],
   "source": []
  }
 ],
 "metadata": {
  "kernelspec": {
   "display_name": "Python 3 (ipykernel)",
   "language": "python",
   "name": "python3"
  },
  "language_info": {
   "codemirror_mode": {
    "name": "ipython",
    "version": 3
   },
   "file_extension": ".py",
   "mimetype": "text/x-python",
   "name": "python",
   "nbconvert_exporter": "python",
   "pygments_lexer": "ipython3",
   "version": "3.9.7"
  }
 },
 "nbformat": 4,
 "nbformat_minor": 5
}
